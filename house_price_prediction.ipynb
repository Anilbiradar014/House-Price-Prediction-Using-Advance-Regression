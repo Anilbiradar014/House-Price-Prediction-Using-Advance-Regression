{
 "cells": [
  {
   "cell_type": "markdown",
   "metadata": {},
   "source": [
    "# <span style='color:#0099CC'> Assignment: Advanced Regression"
   ]
  },
  {
   "cell_type": "markdown",
   "metadata": {},
   "source": [
    "## Problem Statement"
   ]
  },
  {
   "cell_type": "markdown",
   "metadata": {},
   "source": [
    "A US-based housing company named Surprise Housing has decided to enter the Australian market. The company uses data analytics to purchase houses at a price below their actual values and flip them on at a higher price. For the same purpose, the company has collected a data set from the sale of houses in Australia. The data is provided in the CSV file below.\n",
    "\n",
    " \n",
    "\n",
    "The company is looking at prospective properties to buy to enter the market. You are required to build a regression model using regularisation in order to predict the actual value of the prospective properties and decide whether to invest in them or not.\n",
    "\n",
    " \n",
    "\n",
    "The company wants to know the following things about the prospective properties:\n",
    "\n",
    "- Which variables are significant in predicting the price of a house, and\n",
    "\n",
    "- How well those variables describe the price of a house.\n",
    "\n",
    " \n",
    "\n",
    "Also, determine the optimal value of lambda for ridge and lasso regression."
   ]
  },
  {
   "cell_type": "markdown",
   "metadata": {},
   "source": [
    "### Importing required libraries"
   ]
  },
  {
   "cell_type": "code",
   "execution_count": 1,
   "metadata": {},
   "outputs": [],
   "source": [
    "import warnings\n",
    "warnings.filterwarnings('ignore')\n",
    "import pandas as pd, numpy as np\n",
    "import seaborn as sns\n",
    "import matplotlib.pyplot as plt"
   ]
  },
  {
   "cell_type": "markdown",
   "metadata": {},
   "source": [
    "### <span style='color:#0099CC'>Read the Data:"
   ]
  },
  {
   "cell_type": "code",
   "execution_count": 2,
   "metadata": {},
   "outputs": [
    {
     "data": {
      "text/html": [
       "<div>\n",
       "<style scoped>\n",
       "    .dataframe tbody tr th:only-of-type {\n",
       "        vertical-align: middle;\n",
       "    }\n",
       "\n",
       "    .dataframe tbody tr th {\n",
       "        vertical-align: top;\n",
       "    }\n",
       "\n",
       "    .dataframe thead th {\n",
       "        text-align: right;\n",
       "    }\n",
       "</style>\n",
       "<table border=\"1\" class=\"dataframe\">\n",
       "  <thead>\n",
       "    <tr style=\"text-align: right;\">\n",
       "      <th></th>\n",
       "      <th>Id</th>\n",
       "      <th>MSSubClass</th>\n",
       "      <th>MSZoning</th>\n",
       "      <th>LotFrontage</th>\n",
       "      <th>LotArea</th>\n",
       "      <th>Street</th>\n",
       "      <th>Alley</th>\n",
       "      <th>LotShape</th>\n",
       "      <th>LandContour</th>\n",
       "      <th>Utilities</th>\n",
       "      <th>...</th>\n",
       "      <th>PoolArea</th>\n",
       "      <th>PoolQC</th>\n",
       "      <th>Fence</th>\n",
       "      <th>MiscFeature</th>\n",
       "      <th>MiscVal</th>\n",
       "      <th>MoSold</th>\n",
       "      <th>YrSold</th>\n",
       "      <th>SaleType</th>\n",
       "      <th>SaleCondition</th>\n",
       "      <th>SalePrice</th>\n",
       "    </tr>\n",
       "  </thead>\n",
       "  <tbody>\n",
       "    <tr>\n",
       "      <th>0</th>\n",
       "      <td>1</td>\n",
       "      <td>60</td>\n",
       "      <td>RL</td>\n",
       "      <td>65.0</td>\n",
       "      <td>8450</td>\n",
       "      <td>Pave</td>\n",
       "      <td>NaN</td>\n",
       "      <td>Reg</td>\n",
       "      <td>Lvl</td>\n",
       "      <td>AllPub</td>\n",
       "      <td>...</td>\n",
       "      <td>0</td>\n",
       "      <td>NaN</td>\n",
       "      <td>NaN</td>\n",
       "      <td>NaN</td>\n",
       "      <td>0</td>\n",
       "      <td>2</td>\n",
       "      <td>2008</td>\n",
       "      <td>WD</td>\n",
       "      <td>Normal</td>\n",
       "      <td>208500</td>\n",
       "    </tr>\n",
       "    <tr>\n",
       "      <th>1</th>\n",
       "      <td>2</td>\n",
       "      <td>20</td>\n",
       "      <td>RL</td>\n",
       "      <td>80.0</td>\n",
       "      <td>9600</td>\n",
       "      <td>Pave</td>\n",
       "      <td>NaN</td>\n",
       "      <td>Reg</td>\n",
       "      <td>Lvl</td>\n",
       "      <td>AllPub</td>\n",
       "      <td>...</td>\n",
       "      <td>0</td>\n",
       "      <td>NaN</td>\n",
       "      <td>NaN</td>\n",
       "      <td>NaN</td>\n",
       "      <td>0</td>\n",
       "      <td>5</td>\n",
       "      <td>2007</td>\n",
       "      <td>WD</td>\n",
       "      <td>Normal</td>\n",
       "      <td>181500</td>\n",
       "    </tr>\n",
       "    <tr>\n",
       "      <th>2</th>\n",
       "      <td>3</td>\n",
       "      <td>60</td>\n",
       "      <td>RL</td>\n",
       "      <td>68.0</td>\n",
       "      <td>11250</td>\n",
       "      <td>Pave</td>\n",
       "      <td>NaN</td>\n",
       "      <td>IR1</td>\n",
       "      <td>Lvl</td>\n",
       "      <td>AllPub</td>\n",
       "      <td>...</td>\n",
       "      <td>0</td>\n",
       "      <td>NaN</td>\n",
       "      <td>NaN</td>\n",
       "      <td>NaN</td>\n",
       "      <td>0</td>\n",
       "      <td>9</td>\n",
       "      <td>2008</td>\n",
       "      <td>WD</td>\n",
       "      <td>Normal</td>\n",
       "      <td>223500</td>\n",
       "    </tr>\n",
       "    <tr>\n",
       "      <th>3</th>\n",
       "      <td>4</td>\n",
       "      <td>70</td>\n",
       "      <td>RL</td>\n",
       "      <td>60.0</td>\n",
       "      <td>9550</td>\n",
       "      <td>Pave</td>\n",
       "      <td>NaN</td>\n",
       "      <td>IR1</td>\n",
       "      <td>Lvl</td>\n",
       "      <td>AllPub</td>\n",
       "      <td>...</td>\n",
       "      <td>0</td>\n",
       "      <td>NaN</td>\n",
       "      <td>NaN</td>\n",
       "      <td>NaN</td>\n",
       "      <td>0</td>\n",
       "      <td>2</td>\n",
       "      <td>2006</td>\n",
       "      <td>WD</td>\n",
       "      <td>Abnorml</td>\n",
       "      <td>140000</td>\n",
       "    </tr>\n",
       "    <tr>\n",
       "      <th>4</th>\n",
       "      <td>5</td>\n",
       "      <td>60</td>\n",
       "      <td>RL</td>\n",
       "      <td>84.0</td>\n",
       "      <td>14260</td>\n",
       "      <td>Pave</td>\n",
       "      <td>NaN</td>\n",
       "      <td>IR1</td>\n",
       "      <td>Lvl</td>\n",
       "      <td>AllPub</td>\n",
       "      <td>...</td>\n",
       "      <td>0</td>\n",
       "      <td>NaN</td>\n",
       "      <td>NaN</td>\n",
       "      <td>NaN</td>\n",
       "      <td>0</td>\n",
       "      <td>12</td>\n",
       "      <td>2008</td>\n",
       "      <td>WD</td>\n",
       "      <td>Normal</td>\n",
       "      <td>250000</td>\n",
       "    </tr>\n",
       "  </tbody>\n",
       "</table>\n",
       "<p>5 rows × 81 columns</p>\n",
       "</div>"
      ],
      "text/plain": [
       "   Id  MSSubClass MSZoning  LotFrontage  LotArea Street Alley LotShape  \\\n",
       "0   1          60       RL         65.0     8450   Pave   NaN      Reg   \n",
       "1   2          20       RL         80.0     9600   Pave   NaN      Reg   \n",
       "2   3          60       RL         68.0    11250   Pave   NaN      IR1   \n",
       "3   4          70       RL         60.0     9550   Pave   NaN      IR1   \n",
       "4   5          60       RL         84.0    14260   Pave   NaN      IR1   \n",
       "\n",
       "  LandContour Utilities  ... PoolArea PoolQC Fence MiscFeature MiscVal MoSold  \\\n",
       "0         Lvl    AllPub  ...        0    NaN   NaN         NaN       0      2   \n",
       "1         Lvl    AllPub  ...        0    NaN   NaN         NaN       0      5   \n",
       "2         Lvl    AllPub  ...        0    NaN   NaN         NaN       0      9   \n",
       "3         Lvl    AllPub  ...        0    NaN   NaN         NaN       0      2   \n",
       "4         Lvl    AllPub  ...        0    NaN   NaN         NaN       0     12   \n",
       "\n",
       "  YrSold  SaleType  SaleCondition  SalePrice  \n",
       "0   2008        WD         Normal     208500  \n",
       "1   2007        WD         Normal     181500  \n",
       "2   2008        WD         Normal     223500  \n",
       "3   2006        WD        Abnorml     140000  \n",
       "4   2008        WD         Normal     250000  \n",
       "\n",
       "[5 rows x 81 columns]"
      ]
     },
     "execution_count": 2,
     "metadata": {},
     "output_type": "execute_result"
    }
   ],
   "source": [
    "house_price_df_unaltered = pd.read_csv('train.csv')\n",
    "house_price_df_unaltered.head()"
   ]
  },
  {
   "cell_type": "markdown",
   "metadata": {},
   "source": [
    "#### Inspecting the dataframe"
   ]
  },
  {
   "cell_type": "code",
   "execution_count": 3,
   "metadata": {},
   "outputs": [
    {
     "data": {
      "text/plain": [
       "(1460, 81)"
      ]
     },
     "execution_count": 3,
     "metadata": {},
     "output_type": "execute_result"
    }
   ],
   "source": [
    "#Checking the shape\n",
    "house_price_df_unaltered.shape"
   ]
  },
  {
   "cell_type": "markdown",
   "metadata": {},
   "source": [
    "To view the summary of the dataframe `house_price_df_unaltered`"
   ]
  },
  {
   "cell_type": "code",
   "execution_count": 4,
   "metadata": {
    "scrolled": true
   },
   "outputs": [
    {
     "name": "stdout",
     "output_type": "stream",
     "text": [
      "<class 'pandas.core.frame.DataFrame'>\n",
      "RangeIndex: 1460 entries, 0 to 1459\n",
      "Data columns (total 81 columns):\n",
      " #   Column         Non-Null Count  Dtype  \n",
      "---  ------         --------------  -----  \n",
      " 0   Id             1460 non-null   int64  \n",
      " 1   MSSubClass     1460 non-null   int64  \n",
      " 2   MSZoning       1460 non-null   object \n",
      " 3   LotFrontage    1201 non-null   float64\n",
      " 4   LotArea        1460 non-null   int64  \n",
      " 5   Street         1460 non-null   object \n",
      " 6   Alley          91 non-null     object \n",
      " 7   LotShape       1460 non-null   object \n",
      " 8   LandContour    1460 non-null   object \n",
      " 9   Utilities      1460 non-null   object \n",
      " 10  LotConfig      1460 non-null   object \n",
      " 11  LandSlope      1460 non-null   object \n",
      " 12  Neighborhood   1460 non-null   object \n",
      " 13  Condition1     1460 non-null   object \n",
      " 14  Condition2     1460 non-null   object \n",
      " 15  BldgType       1460 non-null   object \n",
      " 16  HouseStyle     1460 non-null   object \n",
      " 17  OverallQual    1460 non-null   int64  \n",
      " 18  OverallCond    1460 non-null   int64  \n",
      " 19  YearBuilt      1460 non-null   int64  \n",
      " 20  YearRemodAdd   1460 non-null   int64  \n",
      " 21  RoofStyle      1460 non-null   object \n",
      " 22  RoofMatl       1460 non-null   object \n",
      " 23  Exterior1st    1460 non-null   object \n",
      " 24  Exterior2nd    1460 non-null   object \n",
      " 25  MasVnrType     1452 non-null   object \n",
      " 26  MasVnrArea     1452 non-null   float64\n",
      " 27  ExterQual      1460 non-null   object \n",
      " 28  ExterCond      1460 non-null   object \n",
      " 29  Foundation     1460 non-null   object \n",
      " 30  BsmtQual       1423 non-null   object \n",
      " 31  BsmtCond       1423 non-null   object \n",
      " 32  BsmtExposure   1422 non-null   object \n",
      " 33  BsmtFinType1   1423 non-null   object \n",
      " 34  BsmtFinSF1     1460 non-null   int64  \n",
      " 35  BsmtFinType2   1422 non-null   object \n",
      " 36  BsmtFinSF2     1460 non-null   int64  \n",
      " 37  BsmtUnfSF      1460 non-null   int64  \n",
      " 38  TotalBsmtSF    1460 non-null   int64  \n",
      " 39  Heating        1460 non-null   object \n",
      " 40  HeatingQC      1460 non-null   object \n",
      " 41  CentralAir     1460 non-null   object \n",
      " 42  Electrical     1459 non-null   object \n",
      " 43  1stFlrSF       1460 non-null   int64  \n",
      " 44  2ndFlrSF       1460 non-null   int64  \n",
      " 45  LowQualFinSF   1460 non-null   int64  \n",
      " 46  GrLivArea      1460 non-null   int64  \n",
      " 47  BsmtFullBath   1460 non-null   int64  \n",
      " 48  BsmtHalfBath   1460 non-null   int64  \n",
      " 49  FullBath       1460 non-null   int64  \n",
      " 50  HalfBath       1460 non-null   int64  \n",
      " 51  BedroomAbvGr   1460 non-null   int64  \n",
      " 52  KitchenAbvGr   1460 non-null   int64  \n",
      " 53  KitchenQual    1460 non-null   object \n",
      " 54  TotRmsAbvGrd   1460 non-null   int64  \n",
      " 55  Functional     1460 non-null   object \n",
      " 56  Fireplaces     1460 non-null   int64  \n",
      " 57  FireplaceQu    770 non-null    object \n",
      " 58  GarageType     1379 non-null   object \n",
      " 59  GarageYrBlt    1379 non-null   float64\n",
      " 60  GarageFinish   1379 non-null   object \n",
      " 61  GarageCars     1460 non-null   int64  \n",
      " 62  GarageArea     1460 non-null   int64  \n",
      " 63  GarageQual     1379 non-null   object \n",
      " 64  GarageCond     1379 non-null   object \n",
      " 65  PavedDrive     1460 non-null   object \n",
      " 66  WoodDeckSF     1460 non-null   int64  \n",
      " 67  OpenPorchSF    1460 non-null   int64  \n",
      " 68  EnclosedPorch  1460 non-null   int64  \n",
      " 69  3SsnPorch      1460 non-null   int64  \n",
      " 70  ScreenPorch    1460 non-null   int64  \n",
      " 71  PoolArea       1460 non-null   int64  \n",
      " 72  PoolQC         7 non-null      object \n",
      " 73  Fence          281 non-null    object \n",
      " 74  MiscFeature    54 non-null     object \n",
      " 75  MiscVal        1460 non-null   int64  \n",
      " 76  MoSold         1460 non-null   int64  \n",
      " 77  YrSold         1460 non-null   int64  \n",
      " 78  SaleType       1460 non-null   object \n",
      " 79  SaleCondition  1460 non-null   object \n",
      " 80  SalePrice      1460 non-null   int64  \n",
      "dtypes: float64(3), int64(35), object(43)\n",
      "memory usage: 924.0+ KB\n"
     ]
    }
   ],
   "source": [
    "house_price_df_unaltered.info()"
   ]
  },
  {
   "cell_type": "markdown",
   "metadata": {},
   "source": [
    "To keep the original data frame unaltered the data frame a copy of `house_price_prediction_df_unaltered` is assigned to `house_price_prediction_df`."
   ]
  },
  {
   "cell_type": "code",
   "execution_count": 5,
   "metadata": {},
   "outputs": [],
   "source": [
    "house_price_df = house_price_df_unaltered.copy()"
   ]
  },
  {
   "cell_type": "markdown",
   "metadata": {},
   "source": [
    "### To know the null values percentage in each attribute"
   ]
  },
  {
   "cell_type": "code",
   "execution_count": 6,
   "metadata": {},
   "outputs": [],
   "source": [
    "# Creating a series with percentage of null values\n",
    "null_values_series = round(house_price_df.isnull().sum()/len(house_price_df) * 100,2)\n"
   ]
  },
  {
   "cell_type": "code",
   "execution_count": 7,
   "metadata": {},
   "outputs": [],
   "source": [
    "#Converting to a dataframe\n",
    "null_values_df = pd.DataFrame({'columns':null_values_series.index, 'Null Value Percentage':null_values_series.values})\n"
   ]
  },
  {
   "cell_type": "code",
   "execution_count": 8,
   "metadata": {},
   "outputs": [
    {
     "data": {
      "text/html": [
       "<div>\n",
       "<style scoped>\n",
       "    .dataframe tbody tr th:only-of-type {\n",
       "        vertical-align: middle;\n",
       "    }\n",
       "\n",
       "    .dataframe tbody tr th {\n",
       "        vertical-align: top;\n",
       "    }\n",
       "\n",
       "    .dataframe thead th {\n",
       "        text-align: right;\n",
       "    }\n",
       "</style>\n",
       "<table border=\"1\" class=\"dataframe\">\n",
       "  <thead>\n",
       "    <tr style=\"text-align: right;\">\n",
       "      <th></th>\n",
       "      <th>columns</th>\n",
       "      <th>Null Value Percentage</th>\n",
       "    </tr>\n",
       "  </thead>\n",
       "  <tbody>\n",
       "    <tr>\n",
       "      <th>72</th>\n",
       "      <td>PoolQC</td>\n",
       "      <td>99.52</td>\n",
       "    </tr>\n",
       "    <tr>\n",
       "      <th>74</th>\n",
       "      <td>MiscFeature</td>\n",
       "      <td>96.30</td>\n",
       "    </tr>\n",
       "    <tr>\n",
       "      <th>6</th>\n",
       "      <td>Alley</td>\n",
       "      <td>93.77</td>\n",
       "    </tr>\n",
       "    <tr>\n",
       "      <th>73</th>\n",
       "      <td>Fence</td>\n",
       "      <td>80.75</td>\n",
       "    </tr>\n",
       "    <tr>\n",
       "      <th>57</th>\n",
       "      <td>FireplaceQu</td>\n",
       "      <td>47.26</td>\n",
       "    </tr>\n",
       "    <tr>\n",
       "      <th>3</th>\n",
       "      <td>LotFrontage</td>\n",
       "      <td>17.74</td>\n",
       "    </tr>\n",
       "    <tr>\n",
       "      <th>59</th>\n",
       "      <td>GarageYrBlt</td>\n",
       "      <td>5.55</td>\n",
       "    </tr>\n",
       "    <tr>\n",
       "      <th>64</th>\n",
       "      <td>GarageCond</td>\n",
       "      <td>5.55</td>\n",
       "    </tr>\n",
       "    <tr>\n",
       "      <th>58</th>\n",
       "      <td>GarageType</td>\n",
       "      <td>5.55</td>\n",
       "    </tr>\n",
       "    <tr>\n",
       "      <th>60</th>\n",
       "      <td>GarageFinish</td>\n",
       "      <td>5.55</td>\n",
       "    </tr>\n",
       "    <tr>\n",
       "      <th>63</th>\n",
       "      <td>GarageQual</td>\n",
       "      <td>5.55</td>\n",
       "    </tr>\n",
       "    <tr>\n",
       "      <th>35</th>\n",
       "      <td>BsmtFinType2</td>\n",
       "      <td>2.60</td>\n",
       "    </tr>\n",
       "    <tr>\n",
       "      <th>32</th>\n",
       "      <td>BsmtExposure</td>\n",
       "      <td>2.60</td>\n",
       "    </tr>\n",
       "    <tr>\n",
       "      <th>30</th>\n",
       "      <td>BsmtQual</td>\n",
       "      <td>2.53</td>\n",
       "    </tr>\n",
       "    <tr>\n",
       "      <th>31</th>\n",
       "      <td>BsmtCond</td>\n",
       "      <td>2.53</td>\n",
       "    </tr>\n",
       "    <tr>\n",
       "      <th>33</th>\n",
       "      <td>BsmtFinType1</td>\n",
       "      <td>2.53</td>\n",
       "    </tr>\n",
       "    <tr>\n",
       "      <th>26</th>\n",
       "      <td>MasVnrArea</td>\n",
       "      <td>0.55</td>\n",
       "    </tr>\n",
       "    <tr>\n",
       "      <th>25</th>\n",
       "      <td>MasVnrType</td>\n",
       "      <td>0.55</td>\n",
       "    </tr>\n",
       "    <tr>\n",
       "      <th>42</th>\n",
       "      <td>Electrical</td>\n",
       "      <td>0.07</td>\n",
       "    </tr>\n",
       "    <tr>\n",
       "      <th>0</th>\n",
       "      <td>Id</td>\n",
       "      <td>0.00</td>\n",
       "    </tr>\n",
       "  </tbody>\n",
       "</table>\n",
       "</div>"
      ],
      "text/plain": [
       "         columns  Null Value Percentage\n",
       "72        PoolQC                  99.52\n",
       "74   MiscFeature                  96.30\n",
       "6          Alley                  93.77\n",
       "73         Fence                  80.75\n",
       "57   FireplaceQu                  47.26\n",
       "3    LotFrontage                  17.74\n",
       "59   GarageYrBlt                   5.55\n",
       "64    GarageCond                   5.55\n",
       "58    GarageType                   5.55\n",
       "60  GarageFinish                   5.55\n",
       "63    GarageQual                   5.55\n",
       "35  BsmtFinType2                   2.60\n",
       "32  BsmtExposure                   2.60\n",
       "30      BsmtQual                   2.53\n",
       "31      BsmtCond                   2.53\n",
       "33  BsmtFinType1                   2.53\n",
       "26    MasVnrArea                   0.55\n",
       "25    MasVnrType                   0.55\n",
       "42    Electrical                   0.07\n",
       "0             Id                   0.00"
      ]
     },
     "execution_count": 8,
     "metadata": {},
     "output_type": "execute_result"
    }
   ],
   "source": [
    "# Diplaying top 20 attributes with null values\n",
    "null_values_df.sort_values(ascending=False, by='Null Value Percentage').head(20)"
   ]
  },
  {
   "cell_type": "code",
   "execution_count": 9,
   "metadata": {
    "scrolled": true
   },
   "outputs": [
    {
     "data": {
      "text/plain": [
       "6965"
      ]
     },
     "execution_count": 9,
     "metadata": {},
     "output_type": "execute_result"
    }
   ],
   "source": [
    "# Total number of missing values\n",
    "house_price_df.isnull().sum().sum()"
   ]
  },
  {
   "cell_type": "markdown",
   "metadata": {},
   "source": [
    "### <span style='color:#0099cc'>Replacing the missing values with appropriate values"
   ]
  },
  {
   "cell_type": "markdown",
   "metadata": {},
   "source": [
    "From the data definition , the missing values are replaced with appropriate values:\n",
    "- Missing values in `Alley` column is **No alley access**\n",
    "- Missing values in `GarageType` and `GarageFinish` is **No Garage**, but these missing values are replaced with **-1** to maintain the uniformity when labelencoding is done on other **Garage** related columns.\n",
    "- Missing values in `MiscFeature` is **None**."
   ]
  },
  {
   "cell_type": "code",
   "execution_count": 10,
   "metadata": {},
   "outputs": [],
   "source": [
    "house_price_df['Alley'].fillna('No alley access',inplace=True)\n",
    "house_price_df[['GarageType','GarageFinish']].fillna(-1,inplace=True)\n",
    "house_price_df['MiscFeature'].fillna('None',inplace=True)"
   ]
  },
  {
   "cell_type": "markdown",
   "metadata": {},
   "source": [
    "Replacing the missing values in Categorical values with **'-1'** value, which will be later used to encode the ordinal categorical values."
   ]
  },
  {
   "cell_type": "code",
   "execution_count": 11,
   "metadata": {},
   "outputs": [],
   "source": [
    "replace_na_with_minus = ['BsmtQual','BsmtCond','BsmtExposure','BsmtFinType1','BsmtFinType2','FireplaceQu',\n",
    "                         'GarageQual','GarageCond','PoolQC','Fence']\n",
    "for i in replace_na_with_minus:\n",
    "    house_price_df[i].fillna('-1',inplace=True)"
   ]
  },
  {
   "cell_type": "markdown",
   "metadata": {},
   "source": [
    "### <span style='color:#0099cc'> Label Encoding the Ordinal Categorical columns"
   ]
  },
  {
   "cell_type": "markdown",
   "metadata": {},
   "source": [
    "To reduce the number of columns while creating the dummies for the dataset, all the ordinal categorical variables are label encoded."
   ]
  },
  {
   "cell_type": "code",
   "execution_count": 12,
   "metadata": {
    "scrolled": true
   },
   "outputs": [
    {
     "name": "stdout",
     "output_type": "stream",
     "text": [
      "2    906\n",
      "3    488\n",
      "4     52\n",
      "1     14\n",
      "Name: ExterQual, dtype: int64\n",
      "2    1282\n",
      "3     146\n",
      "1      28\n",
      "4       3\n",
      "0       1\n",
      "Name: ExterCond, dtype: int64\n",
      " 2    649\n",
      " 3    618\n",
      " 4    121\n",
      "-1     37\n",
      " 1     35\n",
      "Name: BsmtQual, dtype: int64\n",
      " 2    1311\n",
      " 3      65\n",
      " 1      45\n",
      "-1      37\n",
      " 0       2\n",
      "Name: BsmtCond, dtype: int64\n",
      "4    741\n",
      "2    428\n",
      "3    241\n",
      "1     49\n",
      "0      1\n",
      "Name: HeatingQC, dtype: int64\n",
      "2    735\n",
      "3    586\n",
      "4    100\n",
      "1     39\n",
      "Name: KitchenQual, dtype: int64\n",
      "-1    690\n",
      " 3    380\n",
      " 2    313\n",
      " 1     33\n",
      " 4     24\n",
      " 0     20\n",
      "Name: FireplaceQu, dtype: int64\n",
      " 2    1311\n",
      "-1      81\n",
      " 1      48\n",
      " 3      14\n",
      " 0       3\n",
      " 4       3\n",
      "Name: GarageQual, dtype: int64\n",
      " 2    1326\n",
      "-1      81\n",
      " 1      35\n",
      " 3       9\n",
      " 0       7\n",
      " 4       2\n",
      "Name: GarageCond, dtype: int64\n",
      "-1    1453\n",
      " 3       3\n",
      " 4       2\n",
      " 1       2\n",
      "Name: PoolQC, dtype: int64\n"
     ]
    }
   ],
   "source": [
    "ordinal_columns = ['ExterQual','ExterCond','BsmtQual','BsmtCond','HeatingQC','KitchenQual','FireplaceQu',\n",
    "                   'GarageQual','GarageCond','PoolQC']\n",
    "encode_dict = {'Ex': 4,\n",
    "             'Gd': 3,\n",
    "             'TA': 2,\n",
    "             'Fa': 1,\n",
    "             'Po': 0,\n",
    "             '-1':-1}\n",
    "for i in ordinal_columns:\n",
    "    house_price_df[i] = house_price_df[i].map(encode_dict)\n",
    "    print(house_price_df[i].value_counts())"
   ]
  },
  {
   "cell_type": "code",
   "execution_count": 13,
   "metadata": {},
   "outputs": [
    {
     "data": {
      "text/plain": [
       " 0    953\n",
       " 2    221\n",
       " 3    134\n",
       " 1    114\n",
       "-1     38\n",
       "Name: BsmtExposure, dtype: int64"
      ]
     },
     "execution_count": 13,
     "metadata": {},
     "output_type": "execute_result"
    }
   ],
   "source": [
    "exposure_dict = {'Gd':3,\n",
    "                 'Av':2,\n",
    "                 'Mn':1,\n",
    "                 'No':0,\n",
    "                 '-1':-1}\n",
    "house_price_df['BsmtExposure'] = house_price_df['BsmtExposure'].map(exposure_dict) \n",
    "house_price_df['BsmtExposure'].value_counts()"
   ]
  },
  {
   "cell_type": "code",
   "execution_count": 14,
   "metadata": {},
   "outputs": [
    {
     "name": "stdout",
     "output_type": "stream",
     "text": [
      " 0    430\n",
      " 5    418\n",
      " 4    220\n",
      " 3    148\n",
      " 2    133\n",
      " 1     74\n",
      "-1     37\n",
      "Name: BsmtFinType1, dtype: int64\n",
      " 0    1256\n",
      " 2      54\n",
      " 1      46\n",
      "-1      38\n",
      " 3      33\n",
      " 4      19\n",
      " 5      14\n",
      "Name: BsmtFinType2, dtype: int64\n"
     ]
    }
   ],
   "source": [
    "finType_columns = ['BsmtFinType1','BsmtFinType2']\n",
    "finType_dict = {'GLQ':5,\n",
    "                 'ALQ':4,\n",
    "                 'BLQ':3,\n",
    "                 'Rec':2,\n",
    "                 'LwQ':1,\n",
    "                 'Unf':0,\n",
    "                 '-1':-1}\n",
    "for i in finType_columns:\n",
    "    house_price_df[i] = house_price_df[i].map(finType_dict)\n",
    "    print(house_price_df[i].value_counts())"
   ]
  },
  {
   "cell_type": "code",
   "execution_count": 15,
   "metadata": {},
   "outputs": [
    {
     "data": {
      "text/plain": [
       "-1    1179\n",
       " 4     157\n",
       " 5      59\n",
       " 3      54\n",
       " 2      11\n",
       "Name: Fence, dtype: int64"
      ]
     },
     "execution_count": 15,
     "metadata": {},
     "output_type": "execute_result"
    }
   ],
   "source": [
    "fence_dict = {'GdPrv':5,\n",
    "              'MnPrv':4,\n",
    "              'GdWo':3,\n",
    "              'MnWw':2,\n",
    "              '-1':-1}\n",
    "house_price_df['Fence'] = house_price_df['Fence'].map(fence_dict)\n",
    "house_price_df['Fence'].value_counts()"
   ]
  },
  {
   "cell_type": "code",
   "execution_count": 16,
   "metadata": {},
   "outputs": [
    {
     "data": {
      "text/plain": [
       "Id                 0\n",
       "MSSubClass         0\n",
       "MSZoning           0\n",
       "LotFrontage      259\n",
       "LotArea            0\n",
       "                ... \n",
       "MoSold             0\n",
       "YrSold             0\n",
       "SaleType           0\n",
       "SaleCondition      0\n",
       "SalePrice          0\n",
       "Length: 81, dtype: int64"
      ]
     },
     "execution_count": 16,
     "metadata": {},
     "output_type": "execute_result"
    }
   ],
   "source": [
    "house_price_df.isnull().sum()"
   ]
  },
  {
   "cell_type": "code",
   "execution_count": 17,
   "metadata": {},
   "outputs": [
    {
     "data": {
      "text/plain": [
       "0       65.0\n",
       "1       80.0\n",
       "2       68.0\n",
       "3       60.0\n",
       "4       84.0\n",
       "        ... \n",
       "1455    62.0\n",
       "1456    85.0\n",
       "1457    66.0\n",
       "1458    68.0\n",
       "1459    75.0\n",
       "Name: LotFrontage, Length: 1460, dtype: float64"
      ]
     },
     "execution_count": 17,
     "metadata": {},
     "output_type": "execute_result"
    }
   ],
   "source": [
    "house_price_df['LotFrontage']"
   ]
  },
  {
   "cell_type": "markdown",
   "metadata": {},
   "source": [
    "### Dropping the columns with missing value greater than 35%"
   ]
  },
  {
   "cell_type": "code",
   "execution_count": 18,
   "metadata": {},
   "outputs": [],
   "source": [
    "for i in house_price_df.columns:\n",
    "    missing_per = house_price_df[i].isnull().sum() / len(house_price_df) * 100.00\n",
    "    if(missing_per > 35):\n",
    "        print(i,\":\",missing_per)\n",
    "        house_price_df.drop(i,axis=1,inplace=True)"
   ]
  },
  {
   "cell_type": "markdown",
   "metadata": {},
   "source": [
    "From the output it is clear that, None of the columns have missing values greater than 35%."
   ]
  },
  {
   "cell_type": "markdown",
   "metadata": {},
   "source": [
    "### <span style='color:#0099cc'> Imputing Null Values"
   ]
  },
  {
   "cell_type": "markdown",
   "metadata": {},
   "source": [
    "#### Imputing in Categorical columns"
   ]
  },
  {
   "cell_type": "code",
   "execution_count": 19,
   "metadata": {},
   "outputs": [],
   "source": [
    "# Creating a list which contains all the categorical variables\n",
    "categorical_columns = []\n",
    "for i in house_price_df.columns:\n",
    "    if house_price_df[i].dtype == 'O':\n",
    "        categorical_columns.append(i)"
   ]
  },
  {
   "cell_type": "code",
   "execution_count": 20,
   "metadata": {
    "scrolled": true
   },
   "outputs": [
    {
     "name": "stdout",
     "output_type": "stream",
     "text": [
      "======================================\n",
      "MasVnrType : 0.547945205479452\n",
      "None       864\n",
      "BrkFace    445\n",
      "Stone      128\n",
      "BrkCmn      15\n",
      "Name: MasVnrType, dtype: int64\n",
      "======================================\n",
      "Electrical : 0.0684931506849315\n",
      "SBrkr    1334\n",
      "FuseA      94\n",
      "FuseF      27\n",
      "FuseP       3\n",
      "Mix         1\n",
      "Name: Electrical, dtype: int64\n",
      "======================================\n",
      "GarageType : 5.5479452054794525\n",
      "Attchd     870\n",
      "Detchd     387\n",
      "BuiltIn     88\n",
      "Basment     19\n",
      "CarPort      9\n",
      "2Types       6\n",
      "Name: GarageType, dtype: int64\n",
      "======================================\n",
      "GarageFinish : 5.5479452054794525\n",
      "Unf    605\n",
      "RFn    422\n",
      "Fin    352\n",
      "Name: GarageFinish, dtype: int64\n"
     ]
    }
   ],
   "source": [
    "for i in categorical_columns:\n",
    "    if(house_price_df[i].isnull().sum()>0):\n",
    "        print(\"======================================\")\n",
    "        print(i,\":\",house_price_df[i].isnull().sum() / len(house_price_df) * 100.00)\n",
    "        print(house_price_df[i].value_counts())\n"
   ]
  },
  {
   "cell_type": "markdown",
   "metadata": {},
   "source": [
    "Replacing missing values in Categorical columns with mode."
   ]
  },
  {
   "cell_type": "code",
   "execution_count": 21,
   "metadata": {},
   "outputs": [],
   "source": [
    "for i in categorical_columns:\n",
    "    house_price_df[i].fillna(house_price_df[i].mode()[0], inplace=True)\n",
    "    "
   ]
  },
  {
   "cell_type": "markdown",
   "metadata": {},
   "source": [
    "#### Imputing in Numerical columns"
   ]
  },
  {
   "cell_type": "code",
   "execution_count": 22,
   "metadata": {
    "scrolled": true
   },
   "outputs": [],
   "source": [
    "# The missing values in the numeric columns are replaced with the respective mean\n",
    "for i in house_price_df.columns:\n",
    "    #\n",
    "    if(house_price_df[i].dtype != 'O' and house_price_df[i].isnull().sum()>0):\n",
    "        house_price_df[i].fillna(house_price_df[i].mean(),inplace=True)"
   ]
  },
  {
   "cell_type": "markdown",
   "metadata": {},
   "source": [
    "To confirm whether all the missing values are replaced"
   ]
  },
  {
   "cell_type": "code",
   "execution_count": 23,
   "metadata": {},
   "outputs": [
    {
     "data": {
      "text/plain": [
       "0"
      ]
     },
     "execution_count": 23,
     "metadata": {},
     "output_type": "execute_result"
    }
   ],
   "source": [
    "house_price_df.isnull().sum().sum()"
   ]
  },
  {
   "cell_type": "markdown",
   "metadata": {},
   "source": [
    "### <span style='color:#0099cc'>Dropping the skewed categorical columns"
   ]
  },
  {
   "cell_type": "markdown",
   "metadata": {},
   "source": [
    "The categorical columns which have a value with frequency of greater than 96%(arbitrary) are removed."
   ]
  },
  {
   "cell_type": "code",
   "execution_count": 24,
   "metadata": {
    "scrolled": true
   },
   "outputs": [
    {
     "name": "stdout",
     "output_type": "stream",
     "text": [
      "The columns which are skewed: One of the value if more than 96% \n",
      "Street\n",
      "Utilities\n",
      "Condition2\n",
      "RoofMatl\n",
      "Heating\n",
      "MiscFeature\n"
     ]
    }
   ],
   "source": [
    "print(\"The columns which are skewed: One of the value if more than 96% \")\n",
    "count = 0\n",
    "for i in categorical_columns:\n",
    "    if house_price_df[i].value_counts()[0]/len(house_price_df) * 100 > 96:\n",
    "        house_price_df.drop(i,axis=1,inplace=True)\n",
    "        categorical_columns.remove(i)\n",
    "        print(i)"
   ]
  },
  {
   "cell_type": "markdown",
   "metadata": {},
   "source": [
    "### <span style='color:#0099cc'>Dropping the numerical columns if the `value_counts` of a individual value is greater than 96%"
   ]
  },
  {
   "cell_type": "code",
   "execution_count": 25,
   "metadata": {},
   "outputs": [
    {
     "name": "stdout",
     "output_type": "stream",
     "text": [
      "The numeric columns where a individual value frequency is greater than 96% are: \n",
      "LowQualFinSF\n",
      "3SsnPorch\n",
      "PoolArea\n",
      "PoolQC\n",
      "MiscVal\n"
     ]
    }
   ],
   "source": [
    "count = 0\n",
    "print(\"The numeric columns where a individual value frequency is greater than 96% are: \")\n",
    "for i in house_price_df.columns:\n",
    "    if house_price_df[i].dtype != 'O':\n",
    "        if(house_price_df[i].value_counts().values[0] > 0.96*len(house_price_df)):\n",
    "            print(i)\n",
    "            house_price_df.drop(i,axis=1,inplace=True)"
   ]
  },
  {
   "cell_type": "markdown",
   "metadata": {},
   "source": [
    "### <span style='color:#0099cc'>Checking the value counts for each categorical columns"
   ]
  },
  {
   "cell_type": "code",
   "execution_count": 26,
   "metadata": {
    "scrolled": true
   },
   "outputs": [
    {
     "name": "stdout",
     "output_type": "stream",
     "text": [
      "RL         78.84\n",
      "RM         14.93\n",
      "FV          4.45\n",
      "RH          1.10\n",
      "C (all)     0.68\n",
      "Name: MSZoning, dtype: float64\n",
      "No alley access    93.77\n",
      "Grvl                3.42\n",
      "Pave                2.81\n",
      "Name: Alley, dtype: float64\n",
      "Reg    63.36\n",
      "IR1    33.15\n",
      "IR2     2.81\n",
      "IR3     0.68\n",
      "Name: LotShape, dtype: float64\n",
      "Lvl    89.79\n",
      "Bnk     4.32\n",
      "HLS     3.42\n",
      "Low     2.47\n",
      "Name: LandContour, dtype: float64\n",
      "Inside     72.05\n",
      "Corner     18.01\n",
      "CulDSac     6.44\n",
      "FR2         3.22\n",
      "FR3         0.27\n",
      "Name: LotConfig, dtype: float64\n",
      "Gtl    94.66\n",
      "Mod     4.45\n",
      "Sev     0.89\n",
      "Name: LandSlope, dtype: float64\n",
      "NAmes      15.41\n",
      "CollgCr    10.27\n",
      "OldTown     7.74\n",
      "Edwards     6.85\n",
      "Somerst     5.89\n",
      "Gilbert     5.41\n",
      "NridgHt     5.27\n",
      "Sawyer      5.07\n",
      "NWAmes      5.00\n",
      "SawyerW     4.04\n",
      "BrkSide     3.97\n",
      "Crawfor     3.49\n",
      "Mitchel     3.36\n",
      "NoRidge     2.81\n",
      "Timber      2.60\n",
      "IDOTRR      2.53\n",
      "ClearCr     1.92\n",
      "SWISU       1.71\n",
      "StoneBr     1.71\n",
      "Blmngtn     1.16\n",
      "MeadowV     1.16\n",
      "BrDale      1.10\n",
      "Veenker     0.75\n",
      "NPkVill     0.62\n",
      "Blueste     0.14\n",
      "Name: Neighborhood, dtype: float64\n",
      "Norm      86.30\n",
      "Feedr      5.55\n",
      "Artery     3.29\n",
      "RRAn       1.78\n",
      "PosN       1.30\n",
      "RRAe       0.75\n",
      "PosA       0.55\n",
      "RRNn       0.34\n",
      "RRNe       0.14\n",
      "Name: Condition1, dtype: float64\n",
      "1Fam      83.56\n",
      "TwnhsE     7.81\n",
      "Duplex     3.56\n",
      "Twnhs      2.95\n",
      "2fmCon     2.12\n",
      "Name: BldgType, dtype: float64\n",
      "1Story    49.73\n",
      "2Story    30.48\n",
      "1.5Fin    10.55\n",
      "SLvl       4.45\n",
      "SFoyer     2.53\n",
      "1.5Unf     0.96\n",
      "2.5Unf     0.75\n",
      "2.5Fin     0.55\n",
      "Name: HouseStyle, dtype: float64\n",
      "Gable      78.15\n",
      "Hip        19.59\n",
      "Flat        0.89\n",
      "Gambrel     0.75\n",
      "Mansard     0.48\n",
      "Shed        0.14\n",
      "Name: RoofStyle, dtype: float64\n",
      "VinylSd    35.27\n",
      "HdBoard    15.21\n",
      "MetalSd    15.07\n",
      "Wd Sdng    14.11\n",
      "Plywood     7.40\n",
      "CemntBd     4.18\n",
      "BrkFace     3.42\n",
      "WdShing     1.78\n",
      "Stucco      1.71\n",
      "AsbShng     1.37\n",
      "Stone       0.14\n",
      "BrkComm     0.14\n",
      "ImStucc     0.07\n",
      "CBlock      0.07\n",
      "AsphShn     0.07\n",
      "Name: Exterior1st, dtype: float64\n",
      "VinylSd    34.52\n",
      "MetalSd    14.66\n",
      "HdBoard    14.18\n",
      "Wd Sdng    13.49\n",
      "Plywood     9.73\n",
      "CmentBd     4.11\n",
      "Wd Shng     2.60\n",
      "Stucco      1.78\n",
      "BrkFace     1.71\n",
      "AsbShng     1.37\n",
      "ImStucc     0.68\n",
      "Brk Cmn     0.48\n",
      "Stone       0.34\n",
      "AsphShn     0.21\n",
      "CBlock      0.07\n",
      "Other       0.07\n",
      "Name: Exterior2nd, dtype: float64\n",
      "None       59.73\n",
      "BrkFace    30.48\n",
      "Stone       8.77\n",
      "BrkCmn      1.03\n",
      "Name: MasVnrType, dtype: float64\n",
      "PConc     44.32\n",
      "CBlock    43.42\n",
      "BrkTil    10.00\n",
      "Slab       1.64\n",
      "Stone      0.41\n",
      "Wood       0.21\n",
      "Name: Foundation, dtype: float64\n",
      "Y    93.49\n",
      "N     6.51\n",
      "Name: CentralAir, dtype: float64\n",
      "SBrkr    91.44\n",
      "FuseA     6.44\n",
      "FuseF     1.85\n",
      "FuseP     0.21\n",
      "Mix       0.07\n",
      "Name: Electrical, dtype: float64\n",
      "Typ     93.15\n",
      "Min2     2.33\n",
      "Min1     2.12\n",
      "Mod      1.03\n",
      "Maj1     0.96\n",
      "Maj2     0.34\n",
      "Sev      0.07\n",
      "Name: Functional, dtype: float64\n",
      "Attchd     65.14\n",
      "Detchd     26.51\n",
      "BuiltIn     6.03\n",
      "Basment     1.30\n",
      "CarPort     0.62\n",
      "2Types      0.41\n",
      "Name: GarageType, dtype: float64\n",
      "Unf    46.99\n",
      "RFn    28.90\n",
      "Fin    24.11\n",
      "Name: GarageFinish, dtype: float64\n",
      "Y    91.78\n",
      "N     6.16\n",
      "P     2.05\n",
      "Name: PavedDrive, dtype: float64\n",
      "WD       86.78\n",
      "New       8.36\n",
      "COD       2.95\n",
      "ConLD     0.62\n",
      "ConLw     0.34\n",
      "ConLI     0.34\n",
      "CWD       0.27\n",
      "Oth       0.21\n",
      "Con       0.14\n",
      "Name: SaleType, dtype: float64\n",
      "Normal     82.05\n",
      "Partial     8.56\n",
      "Abnorml     6.92\n",
      "Family      1.37\n",
      "Alloca      0.82\n",
      "AdjLand     0.27\n",
      "Name: SaleCondition, dtype: float64\n"
     ]
    }
   ],
   "source": [
    "count = 0\n",
    "for i in house_price_df.columns:\n",
    "    if house_price_df[i].dtype == 'O':\n",
    "        count+=1\n",
    "        print(round(house_price_df[i].value_counts()/len(house_price_df)*100,2))\n",
    "        "
   ]
  },
  {
   "cell_type": "markdown",
   "metadata": {},
   "source": [
    "### <span style='color:#0099cc'>Changing the categorical column values to Others if it's percentage is <= 1"
   ]
  },
  {
   "cell_type": "code",
   "execution_count": 27,
   "metadata": {
    "scrolled": true
   },
   "outputs": [
    {
     "name": "stdout",
     "output_type": "stream",
     "text": [
      "======================\n",
      "RL        1151\n",
      "RM         218\n",
      "FV          65\n",
      "RH          16\n",
      "Others      10\n",
      "Name: MSZoning, dtype: int64\n",
      "======================\n",
      "Reg       925\n",
      "IR1       484\n",
      "IR2        41\n",
      "Others     10\n",
      "Name: LotShape, dtype: int64\n",
      "======================\n",
      "Inside     1052\n",
      "Corner      263\n",
      "CulDSac      94\n",
      "FR2          47\n",
      "Others        4\n",
      "Name: LotConfig, dtype: int64\n",
      "======================\n",
      "NAmes      225\n",
      "CollgCr    150\n",
      "OldTown    113\n",
      "Edwards    100\n",
      "Somerst     86\n",
      "Gilbert     79\n",
      "NridgHt     77\n",
      "Sawyer      74\n",
      "NWAmes      73\n",
      "SawyerW     59\n",
      "BrkSide     58\n",
      "Crawfor     51\n",
      "Mitchel     49\n",
      "NoRidge     41\n",
      "Timber      38\n",
      "IDOTRR      37\n",
      "ClearCr     28\n",
      "SWISU       25\n",
      "StoneBr     25\n",
      "Others      22\n",
      "Blmngtn     17\n",
      "MeadowV     17\n",
      "BrDale      16\n",
      "Name: Neighborhood, dtype: int64\n",
      "======================\n",
      "Norm      1260\n",
      "Feedr       81\n",
      "Artery      48\n",
      "RRAn        26\n",
      "Others      26\n",
      "PosN        19\n",
      "Name: Condition1, dtype: int64\n",
      "======================\n",
      "1Story    726\n",
      "2Story    445\n",
      "1.5Fin    154\n",
      "SLvl       65\n",
      "SFoyer     37\n",
      "Others     33\n",
      "Name: HouseStyle, dtype: int64\n",
      "======================\n",
      "Gable     1141\n",
      "Hip        286\n",
      "Others      33\n",
      "Name: RoofStyle, dtype: int64\n",
      "======================\n",
      "VinylSd    515\n",
      "HdBoard    222\n",
      "MetalSd    220\n",
      "Wd Sdng    206\n",
      "Plywood    108\n",
      "CemntBd     61\n",
      "BrkFace     50\n",
      "WdShing     26\n",
      "Stucco      25\n",
      "AsbShng     20\n",
      "Others       7\n",
      "Name: Exterior1st, dtype: int64\n",
      "======================\n",
      "VinylSd    504\n",
      "MetalSd    214\n",
      "HdBoard    207\n",
      "Wd Sdng    197\n",
      "Plywood    142\n",
      "CmentBd     60\n",
      "Wd Shng     38\n",
      "Others      27\n",
      "Stucco      26\n",
      "BrkFace     25\n",
      "AsbShng     20\n",
      "Name: Exterior2nd, dtype: int64\n",
      "======================\n",
      "PConc     647\n",
      "CBlock    634\n",
      "BrkTil    146\n",
      "Slab       24\n",
      "Others      9\n",
      "Name: Foundation, dtype: int64\n",
      "======================\n",
      "SBrkr     1335\n",
      "FuseA       94\n",
      "FuseF       27\n",
      "Others       4\n",
      "Name: Electrical, dtype: int64\n",
      "======================\n",
      "Typ       1360\n",
      "Min2        34\n",
      "Min1        31\n",
      "Others      20\n",
      "Mod         15\n",
      "Name: Functional, dtype: int64\n",
      "======================\n",
      "Attchd     951\n",
      "Detchd     387\n",
      "BuiltIn     88\n",
      "Basment     19\n",
      "Others      15\n",
      "Name: GarageType, dtype: int64\n",
      "======================\n",
      "WD        1267\n",
      "New        122\n",
      "COD         43\n",
      "Others      28\n",
      "Name: SaleType, dtype: int64\n",
      "======================\n",
      "Normal     1198\n",
      "Partial     125\n",
      "Abnorml     101\n",
      "Family       20\n",
      "Others       16\n",
      "Name: SaleCondition, dtype: int64\n"
     ]
    }
   ],
   "source": [
    "for i in categorical_columns:\n",
    "    # Assigning the value as index and value counts to a series\n",
    "    value_count_series = round(house_price_df[i].value_counts() / len(house_price_df) * 100,2)\n",
    "    if len(value_count_series) > 3:\n",
    "        # Setting a threshold of 1% , the below line will return the boolean array\n",
    "        threshold = value_count_series <= 1.0\n",
    "        # Getting the index of the value_counts less than or equal to 1%\n",
    "        index_of_replacement_values = value_count_series[threshold].index\n",
    "        if(len(index_of_replacement_values)>0):\n",
    "            # Creating a dictionary which is less than 1% and replacing it with value 'Others'\n",
    "            replacement_dict = dict.fromkeys(index_of_replacement_values, 'Others')\n",
    "            # Updating the data frame: Replacing the values in the df which are in the \n",
    "            #dictionary replacement_dict with dict value Others\n",
    "            #ex : house_price_df['LotShape'] = house_price_df['LotShape'].replace('IR3','Others') \n",
    "            house_price_df[i] = house_price_df[i].replace(replacement_dict) \n",
    "            print(\"======================\")\n",
    "            print(house_price_df[i].value_counts())"
   ]
  },
  {
   "cell_type": "markdown",
   "metadata": {},
   "source": [
    "### <span style='color:#0099cc'>Dropping the ID column"
   ]
  },
  {
   "cell_type": "markdown",
   "metadata": {},
   "source": [
    "As the ID columns are redundant in model prediction , it is dropped"
   ]
  },
  {
   "cell_type": "code",
   "execution_count": 28,
   "metadata": {},
   "outputs": [],
   "source": [
    "house_price_df.drop('Id',axis=1,inplace=True)"
   ]
  },
  {
   "cell_type": "markdown",
   "metadata": {},
   "source": [
    "### <span style='color:#0099cc'>Checking if the target variable is normally distributed"
   ]
  },
  {
   "cell_type": "code",
   "execution_count": 29,
   "metadata": {},
   "outputs": [
    {
     "data": {
      "image/png": "[encoded data removed]",
      "text/plain": [
       "<Figure size 432x288 with 1 Axes>"
      ]
     },
     "metadata": {
      "needs_background": "light"
     },
     "output_type": "display_data"
    }
   ],
   "source": [
    "sns.boxplot(house_price_df['SalePrice'])\n",
    "plt.show()"
   ]
  },
  {
   "cell_type": "markdown",
   "metadata": {},
   "source": [
    "From the above output it is clear that there are outliers present in the target variable. If we handle outliers by capping or dropping,we will be limiting the data or loose the data respectively. Hence we need tranform the target variable."
   ]
  },
  {
   "cell_type": "markdown",
   "metadata": {},
   "source": [
    "### <span style='color:#0099cc'> Log Tranformation of the Target variable"
   ]
  },
  {
   "cell_type": "code",
   "execution_count": 30,
   "metadata": {},
   "outputs": [],
   "source": [
    "house_price_df['SalePrice'] = np.log(house_price_df['SalePrice'])"
   ]
  },
  {
   "cell_type": "code",
   "execution_count": 31,
   "metadata": {},
   "outputs": [
    {
     "data": {
      "image/png": "[encoded data removed]",
      "text/plain": [
       "<Figure size 432x288 with 1 Axes>"
      ]
     },
     "metadata": {
      "needs_background": "light"
     },
     "output_type": "display_data"
    }
   ],
   "source": [
    "sns.boxplot(house_price_df['SalePrice'])\n",
    "plt.show()"
   ]
  },
  {
   "cell_type": "markdown",
   "metadata": {},
   "source": [
    "### <span style='color:#0099cc'> Handling Year columns"
   ]
  },
  {
   "cell_type": "markdown",
   "metadata": {},
   "source": [
    "We have the `YearBuilt` attribute from which the age of the house(`AgeOfHouse`) is found and the redundant `YearBuilt` column is dropped."
   ]
  },
  {
   "cell_type": "code",
   "execution_count": 32,
   "metadata": {},
   "outputs": [],
   "source": [
    "import datetime\n",
    "present_year = datetime.date.today().year"
   ]
  },
  {
   "cell_type": "code",
   "execution_count": 33,
   "metadata": {},
   "outputs": [],
   "source": [
    "house_price_df['AgeOfHouse'] = present_year - house_price_df['YearBuilt']\n",
    "house_price_df.drop('YearBuilt',axis=1,inplace=True)"
   ]
  },
  {
   "cell_type": "markdown",
   "metadata": {},
   "source": [
    "Dropping the other redundant year columns from the dataset."
   ]
  },
  {
   "cell_type": "code",
   "execution_count": 34,
   "metadata": {},
   "outputs": [],
   "source": [
    "house_price_df.drop(['YearRemodAdd','GarageYrBlt','YrSold'],axis=1,inplace=True)"
   ]
  },
  {
   "cell_type": "code",
   "execution_count": 35,
   "metadata": {},
   "outputs": [
    {
     "data": {
      "text/plain": [
       "(1460, 66)"
      ]
     },
     "execution_count": 35,
     "metadata": {},
     "output_type": "execute_result"
    }
   ],
   "source": [
    "house_price_df.shape"
   ]
  },
  {
   "cell_type": "markdown",
   "metadata": {},
   "source": [
    "## <span style='color:#0099cc'>Data Preparation"
   ]
  },
  {
   "cell_type": "markdown",
   "metadata": {},
   "source": [
    "### <span style='color:#0099CC'> Splitting the predictor and dependent variables"
   ]
  },
  {
   "cell_type": "code",
   "execution_count": 36,
   "metadata": {},
   "outputs": [],
   "source": [
    "y = house_price_df['SalePrice']\n",
    "house_price_df.drop('SalePrice',axis=1,inplace=True)\n",
    "X = house_price_df"
   ]
  },
  {
   "cell_type": "code",
   "execution_count": 37,
   "metadata": {},
   "outputs": [
    {
     "data": {
      "text/html": [
       "<div>\n",
       "<style scoped>\n",
       "    .dataframe tbody tr th:only-of-type {\n",
       "        vertical-align: middle;\n",
       "    }\n",
       "\n",
       "    .dataframe tbody tr th {\n",
       "        vertical-align: top;\n",
       "    }\n",
       "\n",
       "    .dataframe thead th {\n",
       "        text-align: right;\n",
       "    }\n",
       "</style>\n",
       "<table border=\"1\" class=\"dataframe\">\n",
       "  <thead>\n",
       "    <tr style=\"text-align: right;\">\n",
       "      <th></th>\n",
       "      <th>MSZoning</th>\n",
       "      <th>Alley</th>\n",
       "      <th>LotShape</th>\n",
       "      <th>LandContour</th>\n",
       "      <th>LotConfig</th>\n",
       "      <th>LandSlope</th>\n",
       "      <th>Neighborhood</th>\n",
       "      <th>Condition1</th>\n",
       "      <th>BldgType</th>\n",
       "      <th>HouseStyle</th>\n",
       "      <th>...</th>\n",
       "      <th>MasVnrType</th>\n",
       "      <th>Foundation</th>\n",
       "      <th>CentralAir</th>\n",
       "      <th>Electrical</th>\n",
       "      <th>Functional</th>\n",
       "      <th>GarageType</th>\n",
       "      <th>GarageFinish</th>\n",
       "      <th>PavedDrive</th>\n",
       "      <th>SaleType</th>\n",
       "      <th>SaleCondition</th>\n",
       "    </tr>\n",
       "  </thead>\n",
       "  <tbody>\n",
       "    <tr>\n",
       "      <th>0</th>\n",
       "      <td>RL</td>\n",
       "      <td>No alley access</td>\n",
       "      <td>Reg</td>\n",
       "      <td>Lvl</td>\n",
       "      <td>Inside</td>\n",
       "      <td>Gtl</td>\n",
       "      <td>CollgCr</td>\n",
       "      <td>Norm</td>\n",
       "      <td>1Fam</td>\n",
       "      <td>2Story</td>\n",
       "      <td>...</td>\n",
       "      <td>BrkFace</td>\n",
       "      <td>PConc</td>\n",
       "      <td>Y</td>\n",
       "      <td>SBrkr</td>\n",
       "      <td>Typ</td>\n",
       "      <td>Attchd</td>\n",
       "      <td>RFn</td>\n",
       "      <td>Y</td>\n",
       "      <td>WD</td>\n",
       "      <td>Normal</td>\n",
       "    </tr>\n",
       "    <tr>\n",
       "      <th>1</th>\n",
       "      <td>RL</td>\n",
       "      <td>No alley access</td>\n",
       "      <td>Reg</td>\n",
       "      <td>Lvl</td>\n",
       "      <td>FR2</td>\n",
       "      <td>Gtl</td>\n",
       "      <td>Others</td>\n",
       "      <td>Feedr</td>\n",
       "      <td>1Fam</td>\n",
       "      <td>1Story</td>\n",
       "      <td>...</td>\n",
       "      <td>None</td>\n",
       "      <td>CBlock</td>\n",
       "      <td>Y</td>\n",
       "      <td>SBrkr</td>\n",
       "      <td>Typ</td>\n",
       "      <td>Attchd</td>\n",
       "      <td>RFn</td>\n",
       "      <td>Y</td>\n",
       "      <td>WD</td>\n",
       "      <td>Normal</td>\n",
       "    </tr>\n",
       "    <tr>\n",
       "      <th>2</th>\n",
       "      <td>RL</td>\n",
       "      <td>No alley access</td>\n",
       "      <td>IR1</td>\n",
       "      <td>Lvl</td>\n",
       "      <td>Inside</td>\n",
       "      <td>Gtl</td>\n",
       "      <td>CollgCr</td>\n",
       "      <td>Norm</td>\n",
       "      <td>1Fam</td>\n",
       "      <td>2Story</td>\n",
       "      <td>...</td>\n",
       "      <td>BrkFace</td>\n",
       "      <td>PConc</td>\n",
       "      <td>Y</td>\n",
       "      <td>SBrkr</td>\n",
       "      <td>Typ</td>\n",
       "      <td>Attchd</td>\n",
       "      <td>RFn</td>\n",
       "      <td>Y</td>\n",
       "      <td>WD</td>\n",
       "      <td>Normal</td>\n",
       "    </tr>\n",
       "    <tr>\n",
       "      <th>3</th>\n",
       "      <td>RL</td>\n",
       "      <td>No alley access</td>\n",
       "      <td>IR1</td>\n",
       "      <td>Lvl</td>\n",
       "      <td>Corner</td>\n",
       "      <td>Gtl</td>\n",
       "      <td>Crawfor</td>\n",
       "      <td>Norm</td>\n",
       "      <td>1Fam</td>\n",
       "      <td>2Story</td>\n",
       "      <td>...</td>\n",
       "      <td>None</td>\n",
       "      <td>BrkTil</td>\n",
       "      <td>Y</td>\n",
       "      <td>SBrkr</td>\n",
       "      <td>Typ</td>\n",
       "      <td>Detchd</td>\n",
       "      <td>Unf</td>\n",
       "      <td>Y</td>\n",
       "      <td>WD</td>\n",
       "      <td>Abnorml</td>\n",
       "    </tr>\n",
       "    <tr>\n",
       "      <th>4</th>\n",
       "      <td>RL</td>\n",
       "      <td>No alley access</td>\n",
       "      <td>IR1</td>\n",
       "      <td>Lvl</td>\n",
       "      <td>FR2</td>\n",
       "      <td>Gtl</td>\n",
       "      <td>NoRidge</td>\n",
       "      <td>Norm</td>\n",
       "      <td>1Fam</td>\n",
       "      <td>2Story</td>\n",
       "      <td>...</td>\n",
       "      <td>BrkFace</td>\n",
       "      <td>PConc</td>\n",
       "      <td>Y</td>\n",
       "      <td>SBrkr</td>\n",
       "      <td>Typ</td>\n",
       "      <td>Attchd</td>\n",
       "      <td>RFn</td>\n",
       "      <td>Y</td>\n",
       "      <td>WD</td>\n",
       "      <td>Normal</td>\n",
       "    </tr>\n",
       "  </tbody>\n",
       "</table>\n",
       "<p>5 rows × 23 columns</p>\n",
       "</div>"
      ],
      "text/plain": [
       "  MSZoning            Alley LotShape LandContour LotConfig LandSlope  \\\n",
       "0       RL  No alley access      Reg         Lvl    Inside       Gtl   \n",
       "1       RL  No alley access      Reg         Lvl       FR2       Gtl   \n",
       "2       RL  No alley access      IR1         Lvl    Inside       Gtl   \n",
       "3       RL  No alley access      IR1         Lvl    Corner       Gtl   \n",
       "4       RL  No alley access      IR1         Lvl       FR2       Gtl   \n",
       "\n",
       "  Neighborhood Condition1 BldgType HouseStyle  ... MasVnrType Foundation  \\\n",
       "0      CollgCr       Norm     1Fam     2Story  ...    BrkFace      PConc   \n",
       "1       Others      Feedr     1Fam     1Story  ...       None     CBlock   \n",
       "2      CollgCr       Norm     1Fam     2Story  ...    BrkFace      PConc   \n",
       "3      Crawfor       Norm     1Fam     2Story  ...       None     BrkTil   \n",
       "4      NoRidge       Norm     1Fam     2Story  ...    BrkFace      PConc   \n",
       "\n",
       "  CentralAir Electrical Functional GarageType GarageFinish PavedDrive  \\\n",
       "0          Y      SBrkr        Typ     Attchd          RFn          Y   \n",
       "1          Y      SBrkr        Typ     Attchd          RFn          Y   \n",
       "2          Y      SBrkr        Typ     Attchd          RFn          Y   \n",
       "3          Y      SBrkr        Typ     Detchd          Unf          Y   \n",
       "4          Y      SBrkr        Typ     Attchd          RFn          Y   \n",
       "\n",
       "  SaleType SaleCondition  \n",
       "0       WD        Normal  \n",
       "1       WD        Normal  \n",
       "2       WD        Normal  \n",
       "3       WD       Abnorml  \n",
       "4       WD        Normal  \n",
       "\n",
       "[5 rows x 23 columns]"
      ]
     },
     "execution_count": 37,
     "metadata": {},
     "output_type": "execute_result"
    }
   ],
   "source": [
    "# creating dummy variables for categorical variables\n",
    "\n",
    "# subset all categorical variables\n",
    "house_categorical = X.select_dtypes(include=['object'])\n",
    "house_categorical.head()"
   ]
  },
  {
   "cell_type": "code",
   "execution_count": 38,
   "metadata": {},
   "outputs": [
    {
     "data": {
      "text/html": [
       "<div>\n",
       "<style scoped>\n",
       "    .dataframe tbody tr th:only-of-type {\n",
       "        vertical-align: middle;\n",
       "    }\n",
       "\n",
       "    .dataframe tbody tr th {\n",
       "        vertical-align: top;\n",
       "    }\n",
       "\n",
       "    .dataframe thead th {\n",
       "        text-align: right;\n",
       "    }\n",
       "</style>\n",
       "<table border=\"1\" class=\"dataframe\">\n",
       "  <thead>\n",
       "    <tr style=\"text-align: right;\">\n",
       "      <th></th>\n",
       "      <th>MSZoning_Others</th>\n",
       "      <th>MSZoning_RH</th>\n",
       "      <th>MSZoning_RL</th>\n",
       "      <th>MSZoning_RM</th>\n",
       "      <th>Alley_No alley access</th>\n",
       "      <th>Alley_Pave</th>\n",
       "      <th>LotShape_IR2</th>\n",
       "      <th>LotShape_Others</th>\n",
       "      <th>LotShape_Reg</th>\n",
       "      <th>LandContour_HLS</th>\n",
       "      <th>...</th>\n",
       "      <th>GarageFinish_Unf</th>\n",
       "      <th>PavedDrive_P</th>\n",
       "      <th>PavedDrive_Y</th>\n",
       "      <th>SaleType_New</th>\n",
       "      <th>SaleType_Others</th>\n",
       "      <th>SaleType_WD</th>\n",
       "      <th>SaleCondition_Family</th>\n",
       "      <th>SaleCondition_Normal</th>\n",
       "      <th>SaleCondition_Others</th>\n",
       "      <th>SaleCondition_Partial</th>\n",
       "    </tr>\n",
       "  </thead>\n",
       "  <tbody>\n",
       "    <tr>\n",
       "      <th>0</th>\n",
       "      <td>0</td>\n",
       "      <td>0</td>\n",
       "      <td>1</td>\n",
       "      <td>0</td>\n",
       "      <td>1</td>\n",
       "      <td>0</td>\n",
       "      <td>0</td>\n",
       "      <td>0</td>\n",
       "      <td>1</td>\n",
       "      <td>0</td>\n",
       "      <td>...</td>\n",
       "      <td>0</td>\n",
       "      <td>0</td>\n",
       "      <td>1</td>\n",
       "      <td>0</td>\n",
       "      <td>0</td>\n",
       "      <td>1</td>\n",
       "      <td>0</td>\n",
       "      <td>1</td>\n",
       "      <td>0</td>\n",
       "      <td>0</td>\n",
       "    </tr>\n",
       "    <tr>\n",
       "      <th>1</th>\n",
       "      <td>0</td>\n",
       "      <td>0</td>\n",
       "      <td>1</td>\n",
       "      <td>0</td>\n",
       "      <td>1</td>\n",
       "      <td>0</td>\n",
       "      <td>0</td>\n",
       "      <td>0</td>\n",
       "      <td>1</td>\n",
       "      <td>0</td>\n",
       "      <td>...</td>\n",
       "      <td>0</td>\n",
       "      <td>0</td>\n",
       "      <td>1</td>\n",
       "      <td>0</td>\n",
       "      <td>0</td>\n",
       "      <td>1</td>\n",
       "      <td>0</td>\n",
       "      <td>1</td>\n",
       "      <td>0</td>\n",
       "      <td>0</td>\n",
       "    </tr>\n",
       "    <tr>\n",
       "      <th>2</th>\n",
       "      <td>0</td>\n",
       "      <td>0</td>\n",
       "      <td>1</td>\n",
       "      <td>0</td>\n",
       "      <td>1</td>\n",
       "      <td>0</td>\n",
       "      <td>0</td>\n",
       "      <td>0</td>\n",
       "      <td>0</td>\n",
       "      <td>0</td>\n",
       "      <td>...</td>\n",
       "      <td>0</td>\n",
       "      <td>0</td>\n",
       "      <td>1</td>\n",
       "      <td>0</td>\n",
       "      <td>0</td>\n",
       "      <td>1</td>\n",
       "      <td>0</td>\n",
       "      <td>1</td>\n",
       "      <td>0</td>\n",
       "      <td>0</td>\n",
       "    </tr>\n",
       "    <tr>\n",
       "      <th>3</th>\n",
       "      <td>0</td>\n",
       "      <td>0</td>\n",
       "      <td>1</td>\n",
       "      <td>0</td>\n",
       "      <td>1</td>\n",
       "      <td>0</td>\n",
       "      <td>0</td>\n",
       "      <td>0</td>\n",
       "      <td>0</td>\n",
       "      <td>0</td>\n",
       "      <td>...</td>\n",
       "      <td>1</td>\n",
       "      <td>0</td>\n",
       "      <td>1</td>\n",
       "      <td>0</td>\n",
       "      <td>0</td>\n",
       "      <td>1</td>\n",
       "      <td>0</td>\n",
       "      <td>0</td>\n",
       "      <td>0</td>\n",
       "      <td>0</td>\n",
       "    </tr>\n",
       "    <tr>\n",
       "      <th>4</th>\n",
       "      <td>0</td>\n",
       "      <td>0</td>\n",
       "      <td>1</td>\n",
       "      <td>0</td>\n",
       "      <td>1</td>\n",
       "      <td>0</td>\n",
       "      <td>0</td>\n",
       "      <td>0</td>\n",
       "      <td>0</td>\n",
       "      <td>0</td>\n",
       "      <td>...</td>\n",
       "      <td>0</td>\n",
       "      <td>0</td>\n",
       "      <td>1</td>\n",
       "      <td>0</td>\n",
       "      <td>0</td>\n",
       "      <td>1</td>\n",
       "      <td>0</td>\n",
       "      <td>1</td>\n",
       "      <td>0</td>\n",
       "      <td>0</td>\n",
       "    </tr>\n",
       "  </tbody>\n",
       "</table>\n",
       "<p>5 rows × 106 columns</p>\n",
       "</div>"
      ],
      "text/plain": [
       "   MSZoning_Others  MSZoning_RH  MSZoning_RL  MSZoning_RM  \\\n",
       "0                0            0            1            0   \n",
       "1                0            0            1            0   \n",
       "2                0            0            1            0   \n",
       "3                0            0            1            0   \n",
       "4                0            0            1            0   \n",
       "\n",
       "   Alley_No alley access  Alley_Pave  LotShape_IR2  LotShape_Others  \\\n",
       "0                      1           0             0                0   \n",
       "1                      1           0             0                0   \n",
       "2                      1           0             0                0   \n",
       "3                      1           0             0                0   \n",
       "4                      1           0             0                0   \n",
       "\n",
       "   LotShape_Reg  LandContour_HLS  ...  GarageFinish_Unf  PavedDrive_P  \\\n",
       "0             1                0  ...                 0             0   \n",
       "1             1                0  ...                 0             0   \n",
       "2             0                0  ...                 0             0   \n",
       "3             0                0  ...                 1             0   \n",
       "4             0                0  ...                 0             0   \n",
       "\n",
       "   PavedDrive_Y  SaleType_New  SaleType_Others  SaleType_WD  \\\n",
       "0             1             0                0            1   \n",
       "1             1             0                0            1   \n",
       "2             1             0                0            1   \n",
       "3             1             0                0            1   \n",
       "4             1             0                0            1   \n",
       "\n",
       "   SaleCondition_Family  SaleCondition_Normal  SaleCondition_Others  \\\n",
       "0                     0                     1                     0   \n",
       "1                     0                     1                     0   \n",
       "2                     0                     1                     0   \n",
       "3                     0                     0                     0   \n",
       "4                     0                     1                     0   \n",
       "\n",
       "   SaleCondition_Partial  \n",
       "0                      0  \n",
       "1                      0  \n",
       "2                      0  \n",
       "3                      0  \n",
       "4                      0  \n",
       "\n",
       "[5 rows x 106 columns]"
      ]
     },
     "execution_count": 38,
     "metadata": {},
     "output_type": "execute_result"
    }
   ],
   "source": [
    "# convert into dummies - one hot encoding\n",
    "encoded_house_categorical = pd.get_dummies(house_categorical, drop_first=True)\n",
    "encoded_house_categorical.head()"
   ]
  },
  {
   "cell_type": "code",
   "execution_count": 39,
   "metadata": {},
   "outputs": [],
   "source": [
    "# drop categorical variables \n",
    "X = X.drop(list(house_categorical.columns), axis=1)"
   ]
  },
  {
   "cell_type": "code",
   "execution_count": 40,
   "metadata": {},
   "outputs": [],
   "source": [
    "# concat dummy variables with X\n",
    "X = pd.concat([X, encoded_house_categorical], axis=1)"
   ]
  },
  {
   "cell_type": "markdown",
   "metadata": {},
   "source": [
    "## <span style='color:#0099cc'> Scaling the varibles"
   ]
  },
  {
   "cell_type": "markdown",
   "metadata": {},
   "source": [
    "Ridge regression regularize the linear regression by imposing a penalty on the size of coefficients. Thus the coefficients are shrunk toward zero and toward each other. But when this happens and if the independent variables does not have the same scale, the shrinking is not fair. Two independent variables with different scales will have different contributions to the penalized terms, because the penalized term is a sum of squares of all the coefficients. To avoid such kind of problems, very often, the independent variables are centered and scaled in order to have variance 1."
   ]
  },
  {
   "cell_type": "code",
   "execution_count": 41,
   "metadata": {},
   "outputs": [],
   "source": [
    "cols = X.columns\n",
    "from sklearn.preprocessing import MinMaxScaler\n",
    "scaler = MinMaxScaler()\n",
    "X = scaler.fit_transform(X)"
   ]
  },
  {
   "cell_type": "code",
   "execution_count": 42,
   "metadata": {},
   "outputs": [
    {
     "data": {
      "text/html": [
       "<div>\n",
       "<style scoped>\n",
       "    .dataframe tbody tr th:only-of-type {\n",
       "        vertical-align: middle;\n",
       "    }\n",
       "\n",
       "    .dataframe tbody tr th {\n",
       "        vertical-align: top;\n",
       "    }\n",
       "\n",
       "    .dataframe thead th {\n",
       "        text-align: right;\n",
       "    }\n",
       "</style>\n",
       "<table border=\"1\" class=\"dataframe\">\n",
       "  <thead>\n",
       "    <tr style=\"text-align: right;\">\n",
       "      <th></th>\n",
       "      <th>MSSubClass</th>\n",
       "      <th>LotFrontage</th>\n",
       "      <th>LotArea</th>\n",
       "      <th>OverallQual</th>\n",
       "      <th>OverallCond</th>\n",
       "      <th>MasVnrArea</th>\n",
       "      <th>ExterQual</th>\n",
       "      <th>ExterCond</th>\n",
       "      <th>BsmtQual</th>\n",
       "      <th>BsmtCond</th>\n",
       "      <th>...</th>\n",
       "      <th>GarageFinish_Unf</th>\n",
       "      <th>PavedDrive_P</th>\n",
       "      <th>PavedDrive_Y</th>\n",
       "      <th>SaleType_New</th>\n",
       "      <th>SaleType_Others</th>\n",
       "      <th>SaleType_WD</th>\n",
       "      <th>SaleCondition_Family</th>\n",
       "      <th>SaleCondition_Normal</th>\n",
       "      <th>SaleCondition_Others</th>\n",
       "      <th>SaleCondition_Partial</th>\n",
       "    </tr>\n",
       "  </thead>\n",
       "  <tbody>\n",
       "    <tr>\n",
       "      <th>0</th>\n",
       "      <td>0.235294</td>\n",
       "      <td>0.150685</td>\n",
       "      <td>0.033420</td>\n",
       "      <td>0.666667</td>\n",
       "      <td>0.500</td>\n",
       "      <td>0.12250</td>\n",
       "      <td>0.666667</td>\n",
       "      <td>0.5</td>\n",
       "      <td>0.8</td>\n",
       "      <td>0.75</td>\n",
       "      <td>...</td>\n",
       "      <td>0.0</td>\n",
       "      <td>0.0</td>\n",
       "      <td>1.0</td>\n",
       "      <td>0.0</td>\n",
       "      <td>0.0</td>\n",
       "      <td>1.0</td>\n",
       "      <td>0.0</td>\n",
       "      <td>1.0</td>\n",
       "      <td>0.0</td>\n",
       "      <td>0.0</td>\n",
       "    </tr>\n",
       "    <tr>\n",
       "      <th>1</th>\n",
       "      <td>0.000000</td>\n",
       "      <td>0.202055</td>\n",
       "      <td>0.038795</td>\n",
       "      <td>0.555556</td>\n",
       "      <td>0.875</td>\n",
       "      <td>0.00000</td>\n",
       "      <td>0.333333</td>\n",
       "      <td>0.5</td>\n",
       "      <td>0.8</td>\n",
       "      <td>0.75</td>\n",
       "      <td>...</td>\n",
       "      <td>0.0</td>\n",
       "      <td>0.0</td>\n",
       "      <td>1.0</td>\n",
       "      <td>0.0</td>\n",
       "      <td>0.0</td>\n",
       "      <td>1.0</td>\n",
       "      <td>0.0</td>\n",
       "      <td>1.0</td>\n",
       "      <td>0.0</td>\n",
       "      <td>0.0</td>\n",
       "    </tr>\n",
       "    <tr>\n",
       "      <th>2</th>\n",
       "      <td>0.235294</td>\n",
       "      <td>0.160959</td>\n",
       "      <td>0.046507</td>\n",
       "      <td>0.666667</td>\n",
       "      <td>0.500</td>\n",
       "      <td>0.10125</td>\n",
       "      <td>0.666667</td>\n",
       "      <td>0.5</td>\n",
       "      <td>0.8</td>\n",
       "      <td>0.75</td>\n",
       "      <td>...</td>\n",
       "      <td>0.0</td>\n",
       "      <td>0.0</td>\n",
       "      <td>1.0</td>\n",
       "      <td>0.0</td>\n",
       "      <td>0.0</td>\n",
       "      <td>1.0</td>\n",
       "      <td>0.0</td>\n",
       "      <td>1.0</td>\n",
       "      <td>0.0</td>\n",
       "      <td>0.0</td>\n",
       "    </tr>\n",
       "    <tr>\n",
       "      <th>3</th>\n",
       "      <td>0.294118</td>\n",
       "      <td>0.133562</td>\n",
       "      <td>0.038561</td>\n",
       "      <td>0.666667</td>\n",
       "      <td>0.500</td>\n",
       "      <td>0.00000</td>\n",
       "      <td>0.333333</td>\n",
       "      <td>0.5</td>\n",
       "      <td>0.6</td>\n",
       "      <td>1.00</td>\n",
       "      <td>...</td>\n",
       "      <td>1.0</td>\n",
       "      <td>0.0</td>\n",
       "      <td>1.0</td>\n",
       "      <td>0.0</td>\n",
       "      <td>0.0</td>\n",
       "      <td>1.0</td>\n",
       "      <td>0.0</td>\n",
       "      <td>0.0</td>\n",
       "      <td>0.0</td>\n",
       "      <td>0.0</td>\n",
       "    </tr>\n",
       "    <tr>\n",
       "      <th>4</th>\n",
       "      <td>0.235294</td>\n",
       "      <td>0.215753</td>\n",
       "      <td>0.060576</td>\n",
       "      <td>0.777778</td>\n",
       "      <td>0.500</td>\n",
       "      <td>0.21875</td>\n",
       "      <td>0.666667</td>\n",
       "      <td>0.5</td>\n",
       "      <td>0.8</td>\n",
       "      <td>0.75</td>\n",
       "      <td>...</td>\n",
       "      <td>0.0</td>\n",
       "      <td>0.0</td>\n",
       "      <td>1.0</td>\n",
       "      <td>0.0</td>\n",
       "      <td>0.0</td>\n",
       "      <td>1.0</td>\n",
       "      <td>0.0</td>\n",
       "      <td>1.0</td>\n",
       "      <td>0.0</td>\n",
       "      <td>0.0</td>\n",
       "    </tr>\n",
       "  </tbody>\n",
       "</table>\n",
       "<p>5 rows × 148 columns</p>\n",
       "</div>"
      ],
      "text/plain": [
       "   MSSubClass  LotFrontage   LotArea  OverallQual  OverallCond  MasVnrArea  \\\n",
       "0    0.235294     0.150685  0.033420     0.666667        0.500     0.12250   \n",
       "1    0.000000     0.202055  0.038795     0.555556        0.875     0.00000   \n",
       "2    0.235294     0.160959  0.046507     0.666667        0.500     0.10125   \n",
       "3    0.294118     0.133562  0.038561     0.666667        0.500     0.00000   \n",
       "4    0.235294     0.215753  0.060576     0.777778        0.500     0.21875   \n",
       "\n",
       "   ExterQual  ExterCond  BsmtQual  BsmtCond  ...  GarageFinish_Unf  \\\n",
       "0   0.666667        0.5       0.8      0.75  ...               0.0   \n",
       "1   0.333333        0.5       0.8      0.75  ...               0.0   \n",
       "2   0.666667        0.5       0.8      0.75  ...               0.0   \n",
       "3   0.333333        0.5       0.6      1.00  ...               1.0   \n",
       "4   0.666667        0.5       0.8      0.75  ...               0.0   \n",
       "\n",
       "   PavedDrive_P  PavedDrive_Y  SaleType_New  SaleType_Others  SaleType_WD  \\\n",
       "0           0.0           1.0           0.0              0.0          1.0   \n",
       "1           0.0           1.0           0.0              0.0          1.0   \n",
       "2           0.0           1.0           0.0              0.0          1.0   \n",
       "3           0.0           1.0           0.0              0.0          1.0   \n",
       "4           0.0           1.0           0.0              0.0          1.0   \n",
       "\n",
       "   SaleCondition_Family  SaleCondition_Normal  SaleCondition_Others  \\\n",
       "0                   0.0                   1.0                   0.0   \n",
       "1                   0.0                   1.0                   0.0   \n",
       "2                   0.0                   1.0                   0.0   \n",
       "3                   0.0                   0.0                   0.0   \n",
       "4                   0.0                   1.0                   0.0   \n",
       "\n",
       "   SaleCondition_Partial  \n",
       "0                    0.0  \n",
       "1                    0.0  \n",
       "2                    0.0  \n",
       "3                    0.0  \n",
       "4                    0.0  \n",
       "\n",
       "[5 rows x 148 columns]"
      ]
     },
     "execution_count": 42,
     "metadata": {},
     "output_type": "execute_result"
    }
   ],
   "source": [
    " # Converting the arrays to a dataframe\n",
    "X = pd.DataFrame(X)\n",
    "X.columns = cols\n",
    "X.head()"
   ]
  },
  {
   "cell_type": "code",
   "execution_count": 43,
   "metadata": {},
   "outputs": [],
   "source": [
    "# split into train and test\n",
    "from sklearn.model_selection import train_test_split\n",
    "X_train, X_test, y_train, y_test = train_test_split(X, y, \n",
    "                                                    train_size=0.7,\n",
    "                                                    test_size = 0.3, random_state=100)\n"
   ]
  },
  {
   "cell_type": "code",
   "execution_count": 44,
   "metadata": {},
   "outputs": [
    {
     "data": {
      "text/plain": [
       "(1021, 148)"
      ]
     },
     "execution_count": 44,
     "metadata": {},
     "output_type": "execute_result"
    }
   ],
   "source": [
    "X_train.shape"
   ]
  },
  {
   "cell_type": "markdown",
   "metadata": {},
   "source": [
    "# <span style='color:#0099cc'> Model Building"
   ]
  },
  {
   "cell_type": "markdown",
   "metadata": {},
   "source": [
    "- Ridge regularisation doesn't make any of the variables to 0.\n",
    "- As there is a limitaion of Lasso Regularisation on how much variables it can penalise to 0.\n",
    "<br/>To avoid the above limitations, before using Regularisation top 50 variables are selected using RFE(Recursive Feature Elimination)"
   ]
  },
  {
   "cell_type": "markdown",
   "metadata": {},
   "source": [
    "### <span style='color:#0099cc'>RFE (Recursive Feature Elimination)"
   ]
  },
  {
   "cell_type": "markdown",
   "metadata": {},
   "source": [
    "Since the data set as 148 columns we cannot follow the manual approach to select the variables. Hence we need to use RFE to select top 50 variables."
   ]
  },
  {
   "cell_type": "code",
   "execution_count": 45,
   "metadata": {},
   "outputs": [],
   "source": [
    "# Importing RFE and LinearRegression\n",
    "from sklearn.feature_selection import RFE\n",
    "from sklearn.linear_model import LinearRegression"
   ]
  },
  {
   "cell_type": "code",
   "execution_count": 46,
   "metadata": {},
   "outputs": [],
   "source": [
    "# Fit the linear regression model on the trained data set\n",
    "lm = LinearRegression()\n",
    "lm.fit(X_train,y_train)\n",
    "\n",
    "# Running RFE with the 50 variables\n",
    "rfe = RFE(lm,50)\n",
    "rfe = rfe.fit(X_train,y_train)"
   ]
  },
  {
   "cell_type": "markdown",
   "metadata": {},
   "source": [
    "Among the 149 columns , using the RFE method, the top 50 variables are selected."
   ]
  },
  {
   "cell_type": "code",
   "execution_count": 47,
   "metadata": {},
   "outputs": [
    {
     "data": {
      "text/plain": [
       "Index(['MSSubClass', 'LotFrontage', 'LotArea', 'OverallQual', 'OverallCond',\n",
       "       'BsmtQual', 'BsmtExposure', 'BsmtFinType1', 'BsmtFinSF1', 'TotalBsmtSF',\n",
       "       'HeatingQC', '1stFlrSF', 'GrLivArea', 'BsmtFullBath', 'FullBath',\n",
       "       'HalfBath', 'BedroomAbvGr', 'KitchenAbvGr', 'KitchenQual',\n",
       "       'TotRmsAbvGrd', 'FireplaceQu', 'GarageCars', 'GarageQual', 'GarageCond',\n",
       "       'WoodDeckSF', 'ScreenPorch', 'AgeOfHouse', 'MSZoning_Others',\n",
       "       'MSZoning_RH', 'LotShape_Others', 'Neighborhood_ClearCr',\n",
       "       'Neighborhood_Crawfor', 'Neighborhood_Edwards', 'Neighborhood_MeadowV',\n",
       "       'Neighborhood_NoRidge', 'Neighborhood_NridgHt', 'Neighborhood_Somerst',\n",
       "       'Neighborhood_StoneBr', 'Condition1_Norm', 'Condition1_RRAn',\n",
       "       'BldgType_Twnhs', 'Exterior1st_BrkFace', 'Exterior1st_CemntBd',\n",
       "       'Exterior2nd_CmentBd', 'Functional_Mod', 'Functional_Others',\n",
       "       'SaleType_New', 'SaleType_Others', 'SaleCondition_Normal',\n",
       "       'SaleCondition_Partial'],\n",
       "      dtype='object')"
      ]
     },
     "execution_count": 47,
     "metadata": {},
     "output_type": "execute_result"
    }
   ],
   "source": [
    "col_selected_RFE  = X_train.columns[rfe.support_]\n",
    "col_selected_RFE"
   ]
  },
  {
   "cell_type": "code",
   "execution_count": 48,
   "metadata": {},
   "outputs": [],
   "source": [
    "# The X_train is updated with RFE selected columns\n",
    "X_train_RFE = X_train[col_selected_RFE]"
   ]
  },
  {
   "cell_type": "code",
   "execution_count": 49,
   "metadata": {},
   "outputs": [
    {
     "data": {
      "text/plain": [
       "(1021, 50)"
      ]
     },
     "execution_count": 49,
     "metadata": {},
     "output_type": "execute_result"
    }
   ],
   "source": [
    "X_train_RFE.shape"
   ]
  },
  {
   "cell_type": "code",
   "execution_count": 50,
   "metadata": {},
   "outputs": [],
   "source": [
    "# The X_test is updated with RFE selected columns\n",
    "X_test_RFE = X_test[col_selected_RFE]"
   ]
  },
  {
   "cell_type": "code",
   "execution_count": 51,
   "metadata": {},
   "outputs": [
    {
     "data": {
      "text/plain": [
       "(438, 50)"
      ]
     },
     "execution_count": 51,
     "metadata": {},
     "output_type": "execute_result"
    }
   ],
   "source": [
    "X_test_RFE.shape"
   ]
  },
  {
   "cell_type": "markdown",
   "metadata": {},
   "source": [
    "### <span style='color:#0099cc'>Linear Regression"
   ]
  },
  {
   "cell_type": "markdown",
   "metadata": {},
   "source": [
    "Let's try with linear regression to predict the sale price."
   ]
  },
  {
   "cell_type": "code",
   "execution_count": 52,
   "metadata": {},
   "outputs": [
    {
     "data": {
      "text/plain": [
       "LinearRegression()"
      ]
     },
     "execution_count": 52,
     "metadata": {},
     "output_type": "execute_result"
    }
   ],
   "source": [
    "# Instantiate\n",
    "lm = LinearRegression()\n",
    "\n",
    "# Fit a line\n",
    "lm.fit(X_train_RFE, y_train)"
   ]
  },
  {
   "cell_type": "code",
   "execution_count": 53,
   "metadata": {},
   "outputs": [
    {
     "name": "stdout",
     "output_type": "stream",
     "text": [
      "10.785895993365362\n",
      "[-0.12747849 -0.12366311  0.42277115  0.4415929   0.34125112  0.10035417\n",
      "  0.07721123  0.07279867 -0.07198085 -0.03741847  0.07879287  0.31031342\n",
      "  0.92976586  0.17263346  0.1229899   0.0668788   0.11617492 -0.10666064\n",
      "  0.05529828  0.11750927  0.07499265  0.23404198  0.20872124 -0.20267761\n",
      "  0.07647248  0.12092473 -0.32317509 -0.36561575  0.04561338 -0.13960794\n",
      "  0.12410779  0.15842179 -0.0736617  -0.11245621  0.10905441  0.13853254\n",
      "  0.10444079  0.15391616  0.07305126  0.07785029 -0.09381185  0.09820378\n",
      " -0.11449115  0.10278465 -0.09114648 -0.10387001  0.03565331  0.09054115\n",
      "  0.05060895  0.03565331]\n"
     ]
    }
   ],
   "source": [
    "# Print the coefficients and intercept\n",
    "print(lm.intercept_)\n",
    "print(lm.coef_)"
   ]
  },
  {
   "cell_type": "code",
   "execution_count": 54,
   "metadata": {},
   "outputs": [],
   "source": [
    "from sklearn.metrics import r2_score, mean_squared_error"
   ]
  },
  {
   "cell_type": "code",
   "execution_count": 55,
   "metadata": {},
   "outputs": [
    {
     "name": "stdout",
     "output_type": "stream",
     "text": [
      "r2_score train data set :0.9062882814267897\n",
      "r2_score test data set :0.8972159265922696\n",
      "RSS score train data set: 15.040003843544277\n",
      "RSS score test data set: 7.407501296090404\n",
      "MSE score train data set: 0.01473065998388274\n",
      "RSS score test data set: 0.016912103415731516\n"
     ]
    }
   ],
   "source": [
    "# Prediction on the Train data set\n",
    "y_pred_train = lm.predict(X_train_RFE)\n",
    "\n",
    "# Prediction on the Test data set\n",
    "y_pred_test = lm.predict(X_test_RFE)\n",
    "\n",
    "metric = []\n",
    "r2_train_lr = r2_score(y_train, y_pred_train)\n",
    "print(\"r2_score train data set :\"+str(r2_train_lr))\n",
    "metric.append(r2_train_lr)\n",
    "\n",
    "r2_test_lr = r2_score(y_test, y_pred_test)\n",
    "print(\"r2_score test data set :\"+str(r2_test_lr))\n",
    "metric.append(r2_test_lr)\n",
    "\n",
    "rss1_lr = np.sum(np.square(y_train - y_pred_train))\n",
    "print(\"RSS score train data set:\",rss1_lr)\n",
    "metric.append(rss1_lr)\n",
    "\n",
    "rss2_lr = np.sum(np.square(y_test - y_pred_test))\n",
    "print(\"RSS score test data set:\",rss2_lr)\n",
    "metric.append(rss2_lr)\n",
    "\n",
    "mse_train_lr = mean_squared_error(y_train, y_pred_train)\n",
    "print(\"MSE score train data set:\",mse_train_lr)\n",
    "metric.append(mse_train_lr**0.5)\n",
    "\n",
    "mse_test_lr = mean_squared_error(y_test, y_pred_test)\n",
    "print(\"RSS score test data set:\",mse_test_lr)\n",
    "metric.append(mse_test_lr**0.5)\n"
   ]
  },
  {
   "cell_type": "code",
   "execution_count": 56,
   "metadata": {},
   "outputs": [],
   "source": [
    "betas = pd.DataFrame(index=X_train_RFE.columns)"
   ]
  },
  {
   "cell_type": "code",
   "execution_count": 57,
   "metadata": {},
   "outputs": [],
   "source": [
    "betas.rows = X.columns"
   ]
  },
  {
   "cell_type": "code",
   "execution_count": 58,
   "metadata": {},
   "outputs": [
    {
     "data": {
      "text/plain": [
       "GrLivArea      0.929766\n",
       "OverallQual    0.441593\n",
       "LotArea        0.422771\n",
       "OverallCond    0.341251\n",
       "1stFlrSF       0.310313\n",
       "Name: Linear, dtype: float64"
      ]
     },
     "execution_count": 58,
     "metadata": {},
     "output_type": "execute_result"
    }
   ],
   "source": [
    "betas['Linear'] = lm.coef_\n",
    "betas['Linear'].sort_values(ascending=False)[0:5]"
   ]
  },
  {
   "cell_type": "code",
   "execution_count": 59,
   "metadata": {},
   "outputs": [
    {
     "data": {
      "text/plain": [
       "MSSubClass        -0.127478\n",
       "LotShape_Others   -0.139608\n",
       "GarageCond        -0.202678\n",
       "AgeOfHouse        -0.323175\n",
       "MSZoning_Others   -0.365616\n",
       "Name: Linear, dtype: float64"
      ]
     },
     "execution_count": 59,
     "metadata": {},
     "output_type": "execute_result"
    }
   ],
   "source": [
    "betas['Linear'].sort_values(ascending=False)[-5:]"
   ]
  },
  {
   "cell_type": "markdown",
   "metadata": {},
   "source": [
    "From the above 2 outputs it is clear that the top 5 most important predictor variable is \n",
    "- `GrLivArea`\n",
    "- `OverallQual`\n",
    "- `LotArea`\n",
    "- `OverallCond`\n",
    "- `1stFlrSF`"
   ]
  },
  {
   "cell_type": "markdown",
   "metadata": {},
   "source": [
    "### <span style='color:#0099cc'>Ridge Regression"
   ]
  },
  {
   "cell_type": "markdown",
   "metadata": {},
   "source": [
    "To avoid the overfitting issue , the data set is fitted with Ridge Regression"
   ]
  },
  {
   "cell_type": "code",
   "execution_count": 60,
   "metadata": {},
   "outputs": [],
   "source": [
    "from sklearn.linear_model import Ridge\n",
    "from sklearn.model_selection import GridSearchCV"
   ]
  },
  {
   "cell_type": "code",
   "execution_count": 61,
   "metadata": {},
   "outputs": [
    {
     "name": "stdout",
     "output_type": "stream",
     "text": [
      "Fitting 5 folds for each of 28 candidates, totalling 140 fits\n"
     ]
    },
    {
     "name": "stderr",
     "output_type": "stream",
     "text": [
      "[Parallel(n_jobs=1)]: Using backend SequentialBackend with 1 concurrent workers.\n",
      "[Parallel(n_jobs=1)]: Done 140 out of 140 | elapsed:    0.9s finished\n"
     ]
    },
    {
     "data": {
      "text/plain": [
       "GridSearchCV(cv=5, estimator=Ridge(),\n",
       "             param_grid={'alpha': [0.0001, 0.001, 0.01, 0.05, 0.1, 0.2, 0.3,\n",
       "                                   0.4, 0.5, 0.6, 0.7, 0.8, 0.9, 1.0, 2.0, 3.0,\n",
       "                                   4.0, 5.0, 6.0, 7.0, 8.0, 9.0, 10.0, 20, 50,\n",
       "                                   100, 500, 1000]},\n",
       "             return_train_score=True, scoring='neg_mean_absolute_error',\n",
       "             verbose=1)"
      ]
     },
     "execution_count": 61,
     "metadata": {},
     "output_type": "execute_result"
    }
   ],
   "source": [
    "# list of alphas to tune - if value too high it will lead to underfitting, if it is too low, \n",
    "# it will not handle the overfitting\n",
    "params = {'alpha': [0.0001, 0.001, 0.01, 0.05, 0.1, \n",
    " 0.2, 0.3, 0.4, 0.5, 0.6, 0.7, 0.8, 0.9, 1.0, 2.0, 3.0, \n",
    " 4.0, 5.0, 6.0, 7.0, 8.0, 9.0, 10.0, 20, 50, 100, 500, 1000 ]}\n",
    "\n",
    "ridge = Ridge()\n",
    "\n",
    "# cross validation\n",
    "folds = 5\n",
    "model_cv = GridSearchCV(estimator = ridge, \n",
    "                        param_grid = params, \n",
    "                        scoring= 'neg_mean_absolute_error',  \n",
    "                        cv = folds, \n",
    "                        return_train_score=True,\n",
    "                        verbose = 1)            \n",
    "model_cv.fit(X_train_RFE, y_train) "
   ]
  },
  {
   "cell_type": "code",
   "execution_count": 62,
   "metadata": {},
   "outputs": [
    {
     "name": "stdout",
     "output_type": "stream",
     "text": [
      "{'alpha': 0.0001}\n"
     ]
    }
   ],
   "source": [
    "# Printing the best hyperparameter alpha\n",
    "print(model_cv.best_params_)"
   ]
  },
  {
   "cell_type": "code",
   "execution_count": 63,
   "metadata": {},
   "outputs": [
    {
     "name": "stdout",
     "output_type": "stream",
     "text": [
      "[-0.12747536 -0.12364929  0.4227474   0.44159653  0.34124824  0.10035244\n",
      "  0.07721166  0.0727978  -0.07197125 -0.03739983  0.0787933   0.31031776\n",
      "  0.92970007  0.17263184  0.12299999  0.06688473  0.11617434 -0.10666382\n",
      "  0.05530098  0.11752866  0.07499413  0.23404192  0.20869687 -0.20265049\n",
      "  0.07647418  0.12092306 -0.32316682 -0.36560967  0.04561449 -0.13960466\n",
      "  0.12410989  0.15842152 -0.07366102 -0.11245407  0.10905759  0.13853058\n",
      "  0.10444029  0.15391532  0.07305024  0.0778495  -0.09381157  0.09820305\n",
      " -0.11447867  0.10277217 -0.09114436 -0.10386771  0.03565335  0.09054085\n",
      "  0.05060916  0.03565335]\n"
     ]
    }
   ],
   "source": [
    "#Fitting Ridge model for alpha = 0.0001 and printing coefficients which have been penalised\n",
    "alpha = 0.0001\n",
    "ridge = Ridge(alpha=alpha)\n",
    "\n",
    "ridge.fit(X_train_RFE, y_train)\n",
    "print(ridge.coef_)"
   ]
  },
  {
   "cell_type": "code",
   "execution_count": 64,
   "metadata": {},
   "outputs": [
    {
     "name": "stdout",
     "output_type": "stream",
     "text": [
      "r2_score train data set :0.9062882813717921\n",
      "r2_score test data set :0.8972163445639448\n",
      "RSS score train data set: 15.04000385237097\n",
      "RSS score test data set: 7.40747117346903\n",
      "MSE score train data set: 0.014730659992527885\n",
      "RSS score test data set: 0.016912034642623357\n"
     ]
    }
   ],
   "source": [
    "# Lets calculate some metrics such as R2 score, RSS and RMSE\n",
    "y_pred_train = ridge.predict(X_train_RFE)\n",
    "y_pred_test = ridge.predict(X_test_RFE)\n",
    "\n",
    "metric2 = []\n",
    "r2_train_lr = r2_score(y_train, y_pred_train)\n",
    "print(\"r2_score train data set :\"+str(r2_train_lr))\n",
    "metric2.append(r2_train_lr)\n",
    "\n",
    "r2_test_lr = r2_score(y_test, y_pred_test)\n",
    "print(\"r2_score test data set :\"+str(r2_test_lr))\n",
    "metric2.append(r2_test_lr)\n",
    "\n",
    "rss1_lr = np.sum(np.square(y_train - y_pred_train))\n",
    "print(\"RSS score train data set:\",rss1_lr)\n",
    "metric2.append(rss1_lr)\n",
    "\n",
    "rss2_lr = np.sum(np.square(y_test - y_pred_test))\n",
    "print(\"RSS score test data set:\",rss2_lr)\n",
    "metric2.append(rss2_lr)\n",
    "\n",
    "mse_train_lr = mean_squared_error(y_train, y_pred_train)\n",
    "print(\"MSE score train data set:\",mse_train_lr)\n",
    "metric2.append(mse_train_lr**0.5)\n",
    "\n",
    "mse_test_lr = mean_squared_error(y_test, y_pred_test)\n",
    "print(\"RSS score test data set:\",mse_test_lr)\n",
    "metric2.append(mse_test_lr**0.5)"
   ]
  },
  {
   "cell_type": "code",
   "execution_count": 65,
   "metadata": {},
   "outputs": [
    {
     "data": {
      "text/plain": [
       "GrLivArea      0.929700\n",
       "OverallQual    0.441597\n",
       "LotArea        0.422747\n",
       "OverallCond    0.341248\n",
       "1stFlrSF       0.310318\n",
       "Name: Ridge, dtype: float64"
      ]
     },
     "execution_count": 65,
     "metadata": {},
     "output_type": "execute_result"
    }
   ],
   "source": [
    "betas['Ridge'] = ridge.coef_\n",
    "betas['Ridge'].sort_values(ascending=False)[0:5]"
   ]
  },
  {
   "cell_type": "code",
   "execution_count": 66,
   "metadata": {},
   "outputs": [
    {
     "data": {
      "text/plain": [
       "MSSubClass        -0.127475\n",
       "LotShape_Others   -0.139605\n",
       "GarageCond        -0.202650\n",
       "AgeOfHouse        -0.323167\n",
       "MSZoning_Others   -0.365610\n",
       "Name: Ridge, dtype: float64"
      ]
     },
     "execution_count": 66,
     "metadata": {},
     "output_type": "execute_result"
    }
   ],
   "source": [
    "betas['Ridge'].sort_values(ascending=False)[-5:]"
   ]
  },
  {
   "cell_type": "markdown",
   "metadata": {},
   "source": [
    "From the above 2 outputs it is clear that the top 5 most important predictor variable is \n",
    "- `GrLivArea`\n",
    "- `OverallQual`\n",
    "- `LotArea`\n",
    "- `OverallCond`\n",
    "- `1stFlrSF`"
   ]
  },
  {
   "cell_type": "markdown",
   "metadata": {},
   "source": [
    "### <span style='color:#0099cc'>Lasso Regression"
   ]
  },
  {
   "cell_type": "markdown",
   "metadata": {},
   "source": [
    "In Ridge regression the variable elimination is not available, hence to reduce the model complexity, Lasso Regression is used."
   ]
  },
  {
   "cell_type": "code",
   "execution_count": 67,
   "metadata": {},
   "outputs": [],
   "source": [
    "from sklearn.linear_model import Lasso"
   ]
  },
  {
   "cell_type": "code",
   "execution_count": 68,
   "metadata": {},
   "outputs": [
    {
     "name": "stderr",
     "output_type": "stream",
     "text": [
      "[Parallel(n_jobs=1)]: Using backend SequentialBackend with 1 concurrent workers.\n"
     ]
    },
    {
     "name": "stdout",
     "output_type": "stream",
     "text": [
      "Fitting 5 folds for each of 30 candidates, totalling 150 fits\n"
     ]
    },
    {
     "name": "stderr",
     "output_type": "stream",
     "text": [
      "[Parallel(n_jobs=1)]: Done 150 out of 150 | elapsed:    0.9s finished\n"
     ]
    },
    {
     "data": {
      "text/plain": [
       "GridSearchCV(cv=5, estimator=Lasso(),\n",
       "             param_grid={'alpha': [0.0001, 0.001, 0.003, 0.004, 0.01, 0.05, 0.1,\n",
       "                                   0.2, 0.3, 0.4, 0.5, 0.6, 0.7, 0.8, 0.9, 1.0,\n",
       "                                   2.0, 3.0, 4.0, 5.0, 6.0, 7.0, 8.0, 9.0, 10.0,\n",
       "                                   20, 50, 100, 500, 1000]},\n",
       "             return_train_score=True, scoring='neg_mean_absolute_error',\n",
       "             verbose=1)"
      ]
     },
     "execution_count": 68,
     "metadata": {},
     "output_type": "execute_result"
    }
   ],
   "source": [
    "lasso = Lasso()\n",
    "params = {'alpha': [0.0001, 0.001,0.003,0.004, 0.01, 0.05, 0.1, \n",
    " 0.2, 0.3, 0.4, 0.5, 0.6, 0.7, 0.8, 0.9, 1.0, 2.0, 3.0, \n",
    " 4.0, 5.0, 6.0, 7.0, 8.0, 9.0, 10.0, 20, 50, 100, 500, 1000 ]}\n",
    "# cross validation\n",
    "model_cv = GridSearchCV(estimator = lasso, \n",
    "                        param_grid = params, \n",
    "                        scoring= 'neg_mean_absolute_error', \n",
    "                        cv = folds, \n",
    "                        return_train_score=True,\n",
    "                        verbose = 1)            \n",
    "\n",
    "model_cv.fit(X_train_RFE, y_train)"
   ]
  },
  {
   "cell_type": "code",
   "execution_count": 69,
   "metadata": {},
   "outputs": [
    {
     "name": "stdout",
     "output_type": "stream",
     "text": [
      "{'alpha': 0.0001}\n"
     ]
    }
   ],
   "source": [
    "# Printing the best hyperparameter alpha\n",
    "print(model_cv.best_params_)"
   ]
  },
  {
   "cell_type": "code",
   "execution_count": 70,
   "metadata": {},
   "outputs": [
    {
     "data": {
      "text/plain": [
       "Lasso(alpha=0.0001)"
      ]
     },
     "execution_count": 70,
     "metadata": {},
     "output_type": "execute_result"
    }
   ],
   "source": [
    "#Fitting Ridge model for alpha = 0.0001 and printing coefficients which have been penalised\n",
    "\n",
    "alpha =0.0001\n",
    "\n",
    "lasso = Lasso(alpha=alpha)\n",
    "        \n",
    "lasso.fit(X_train_RFE, y_train) "
   ]
  },
  {
   "cell_type": "code",
   "execution_count": 71,
   "metadata": {},
   "outputs": [
    {
     "data": {
      "text/plain": [
       "array([-0.12599136, -0.08242777,  0.36296532,  0.45714736,  0.33629472,\n",
       "        0.09563547,  0.07870096,  0.06872514, -0.02121685,  0.        ,\n",
       "        0.07813188,  0.25607298,  0.90667187,  0.16060731,  0.12728751,\n",
       "        0.06337946,  0.10025586, -0.07454355,  0.0586249 ,  0.12664058,\n",
       "        0.07978552,  0.23273927,  0.07220654, -0.06022275,  0.07445323,\n",
       "        0.11200991, -0.31946563, -0.35301685,  0.03766942, -0.13084931,\n",
       "        0.12218803,  0.1540308 , -0.0709653 , -0.0958233 ,  0.10567389,\n",
       "        0.13173498,  0.10104907,  0.14553479,  0.07055993,  0.07056379,\n",
       "       -0.09049472,  0.09541766, -0.01379155,  0.        , -0.07446936,\n",
       "       -0.0949933 ,  0.02798651,  0.08470277,  0.04984276,  0.04100319])"
      ]
     },
     "execution_count": 71,
     "metadata": {},
     "output_type": "execute_result"
    }
   ],
   "source": [
    "lasso.coef_"
   ]
  },
  {
   "cell_type": "code",
   "execution_count": 72,
   "metadata": {},
   "outputs": [
    {
     "name": "stdout",
     "output_type": "stream",
     "text": [
      "r2_score train data set :0.905726789861639\n",
      "r2_score test data set :0.8984201983156268\n",
      "RSS score train data set: 15.130118883867517\n",
      "RSS score test data set: 7.3207111538450444\n",
      "MSE score train data set: 0.01481892153170178\n",
      "RSS score test data set: 0.016713952406038915\n"
     ]
    }
   ],
   "source": [
    "# Lets calculate some metrics such as R2 score, RSS and RMSE\n",
    "\n",
    "y_pred_train = lasso.predict(X_train_RFE)\n",
    "y_pred_test = lasso.predict(X_test_RFE)\n",
    "\n",
    "metric3 = []\n",
    "r2_train_lr = r2_score(y_train, y_pred_train)\n",
    "print(\"r2_score train data set :\"+str(r2_train_lr))\n",
    "metric3.append(r2_train_lr)\n",
    "\n",
    "r2_test_lr = r2_score(y_test, y_pred_test)\n",
    "print(\"r2_score test data set :\"+str(r2_test_lr))\n",
    "metric3.append(r2_test_lr)\n",
    "\n",
    "rss1_lr = np.sum(np.square(y_train - y_pred_train))\n",
    "print(\"RSS score train data set:\",rss1_lr)\n",
    "metric3.append(rss1_lr)\n",
    "\n",
    "rss2_lr = np.sum(np.square(y_test - y_pred_test))\n",
    "print(\"RSS score test data set:\",rss2_lr)\n",
    "metric3.append(rss2_lr)\n",
    "\n",
    "mse_train_lr = mean_squared_error(y_train, y_pred_train)\n",
    "print(\"MSE score train data set:\",mse_train_lr)\n",
    "metric3.append(mse_train_lr**0.5)\n",
    "\n",
    "mse_test_lr = mean_squared_error(y_test, y_pred_test)\n",
    "print(\"RSS score test data set:\",mse_test_lr)\n",
    "metric3.append(mse_test_lr**0.5)"
   ]
  },
  {
   "cell_type": "markdown",
   "metadata": {},
   "source": [
    "To infer which are the important predictor variables"
   ]
  },
  {
   "cell_type": "code",
   "execution_count": 73,
   "metadata": {},
   "outputs": [
    {
     "data": {
      "text/plain": [
       "GrLivArea      0.906672\n",
       "OverallQual    0.457147\n",
       "LotArea        0.362965\n",
       "OverallCond    0.336295\n",
       "1stFlrSF       0.256073\n",
       "Name: Lasso, dtype: float64"
      ]
     },
     "execution_count": 73,
     "metadata": {},
     "output_type": "execute_result"
    }
   ],
   "source": [
    "betas['Lasso'] = lasso.coef_\n",
    "betas['Lasso'].sort_values(ascending=False)[0:5]"
   ]
  },
  {
   "cell_type": "code",
   "execution_count": 74,
   "metadata": {},
   "outputs": [
    {
     "data": {
      "text/plain": [
       "Neighborhood_MeadowV   -0.095823\n",
       "MSSubClass             -0.125991\n",
       "LotShape_Others        -0.130849\n",
       "AgeOfHouse             -0.319466\n",
       "MSZoning_Others        -0.353017\n",
       "Name: Lasso, dtype: float64"
      ]
     },
     "execution_count": 74,
     "metadata": {},
     "output_type": "execute_result"
    }
   ],
   "source": [
    "betas['Lasso'].sort_values(ascending=False)[-5:]"
   ]
  },
  {
   "cell_type": "markdown",
   "metadata": {},
   "source": [
    "From the above 2 outputs it is clear that the top 5 most important predictor variable is \n",
    "- `GrLivArea`\n",
    "- `OverallQual`\n",
    "- `LotArea`\n",
    "- `OverallCond`\n",
    "- `1stFlrSF`"
   ]
  },
  {
   "cell_type": "code",
   "execution_count": 75,
   "metadata": {},
   "outputs": [
    {
     "data": {
      "text/html": [
       "<div>\n",
       "<style scoped>\n",
       "    .dataframe tbody tr th:only-of-type {\n",
       "        vertical-align: middle;\n",
       "    }\n",
       "\n",
       "    .dataframe tbody tr th {\n",
       "        vertical-align: top;\n",
       "    }\n",
       "\n",
       "    .dataframe thead th {\n",
       "        text-align: right;\n",
       "    }\n",
       "</style>\n",
       "<table border=\"1\" class=\"dataframe\">\n",
       "  <thead>\n",
       "    <tr style=\"text-align: right;\">\n",
       "      <th></th>\n",
       "      <th>Metric</th>\n",
       "      <th>Linear Regression</th>\n",
       "      <th>Ridge Regression</th>\n",
       "      <th>Lasso Regression</th>\n",
       "    </tr>\n",
       "  </thead>\n",
       "  <tbody>\n",
       "    <tr>\n",
       "      <th>0</th>\n",
       "      <td>R2 Score (Train)</td>\n",
       "      <td>0.906288</td>\n",
       "      <td>0.906288</td>\n",
       "      <td>0.905727</td>\n",
       "    </tr>\n",
       "    <tr>\n",
       "      <th>1</th>\n",
       "      <td>R2 Score (Test)</td>\n",
       "      <td>0.897216</td>\n",
       "      <td>0.897216</td>\n",
       "      <td>0.898420</td>\n",
       "    </tr>\n",
       "    <tr>\n",
       "      <th>2</th>\n",
       "      <td>RSS (Train)</td>\n",
       "      <td>15.040004</td>\n",
       "      <td>15.040004</td>\n",
       "      <td>15.130119</td>\n",
       "    </tr>\n",
       "    <tr>\n",
       "      <th>3</th>\n",
       "      <td>RSS (Test)</td>\n",
       "      <td>7.407501</td>\n",
       "      <td>7.407471</td>\n",
       "      <td>7.320711</td>\n",
       "    </tr>\n",
       "    <tr>\n",
       "      <th>4</th>\n",
       "      <td>MSE (Train)</td>\n",
       "      <td>0.121370</td>\n",
       "      <td>0.121370</td>\n",
       "      <td>0.121733</td>\n",
       "    </tr>\n",
       "    <tr>\n",
       "      <th>5</th>\n",
       "      <td>MSE (Test)</td>\n",
       "      <td>0.130047</td>\n",
       "      <td>0.130046</td>\n",
       "      <td>0.129282</td>\n",
       "    </tr>\n",
       "  </tbody>\n",
       "</table>\n",
       "</div>"
      ],
      "text/plain": [
       "             Metric  Linear Regression  Ridge Regression  Lasso Regression\n",
       "0  R2 Score (Train)           0.906288          0.906288          0.905727\n",
       "1   R2 Score (Test)           0.897216          0.897216          0.898420\n",
       "2       RSS (Train)          15.040004         15.040004         15.130119\n",
       "3        RSS (Test)           7.407501          7.407471          7.320711\n",
       "4       MSE (Train)           0.121370          0.121370          0.121733\n",
       "5        MSE (Test)           0.130047          0.130046          0.129282"
      ]
     },
     "execution_count": 75,
     "metadata": {},
     "output_type": "execute_result"
    }
   ],
   "source": [
    "# Creating a table which contain all the metrics\n",
    "\n",
    "lr_table = {'Metric': ['R2 Score (Train)','R2 Score (Test)','RSS (Train)','RSS (Test)',\n",
    "                       'MSE (Train)','MSE (Test)'], \n",
    "        'Linear Regression': metric\n",
    "        }\n",
    "\n",
    "lr_metric = pd.DataFrame(lr_table ,columns = ['Metric', 'Linear Regression'] )\n",
    "\n",
    "rg_metric = pd.Series(metric2, name = 'Ridge Regression')\n",
    "ls_metric = pd.Series(metric3, name = 'Lasso Regression')\n",
    "\n",
    "final_metric = pd.concat([lr_metric, rg_metric, ls_metric], axis = 1)\n",
    "\n",
    "final_metric"
   ]
  },
  {
   "cell_type": "markdown",
   "metadata": {},
   "source": [
    "## Question 1:"
   ]
  },
  {
   "attachments": {},
   "cell_type": "markdown",
   "metadata": {},
   "source": [
    "What is the optimal value of alpha for ridge and lasso regression? What will be the changes in the model if you choose double the value of alpha for both ridge and lasso? What will be the most important predictor variables after the change is implemented?"
   ]
  },
  {
   "cell_type": "markdown",
   "metadata": {},
   "source": [
    "### <span style='color:blue'> Ridge Regression:<br/>\n",
    "If we double the value of alpha"
   ]
  },
  {
   "cell_type": "code",
   "execution_count": 76,
   "metadata": {},
   "outputs": [
    {
     "name": "stdout",
     "output_type": "stream",
     "text": [
      "[-0.12747224 -0.12363548  0.42272365  0.44160017  0.34124537  0.10035071\n",
      "  0.0772121   0.07279693 -0.07196166 -0.0373812   0.07879374  0.3103221\n",
      "  0.92963428  0.17263023  0.12301008  0.06689066  0.11617376 -0.10666699\n",
      "  0.05530368  0.11754805  0.07499562  0.23404186  0.20867252 -0.20262337\n",
      "  0.07647589  0.12092139 -0.32315855 -0.36560359  0.0456156  -0.13960138\n",
      "  0.12411198  0.15842124 -0.07366033 -0.11245193  0.10906077  0.13852863\n",
      "  0.10443979  0.15391449  0.07304923  0.07784871 -0.0938113   0.09820233\n",
      " -0.11446619  0.1027597  -0.09114223 -0.10386541  0.03565339  0.09054056\n",
      "  0.05060936  0.03565339]\n"
     ]
    }
   ],
   "source": [
    "#Fitting Ridge model for alpha = 0.0001 * 2 and printing coefficients which have been penalised\n",
    "alpha = 0.0001*2\n",
    "ridge_alpha_double = Ridge(alpha=alpha)\n",
    "\n",
    "ridge_alpha_double.fit(X_train_RFE, y_train)\n",
    "print(ridge_alpha_double.coef_)"
   ]
  },
  {
   "cell_type": "code",
   "execution_count": 77,
   "metadata": {},
   "outputs": [
    {
     "name": "stdout",
     "output_type": "stream",
     "text": [
      "r2_score train data set :0.9062882812068386\n",
      "r2_score test data set :0.897216762337809\n",
      "RSS score train data set: 15.040003878844736\n",
      "RSS score test data set: 7.407441065103619\n",
      "MSE score train data set: 0.014730660018457136\n",
      "RSS score test data set: 0.016911965902063057\n"
     ]
    }
   ],
   "source": [
    "# Lets calculate some metrics such as R2 score, RSS and RMSE\n",
    "y_pred_train = ridge_alpha_double.predict(X_train_RFE)\n",
    "y_pred_test = ridge_alpha_double.predict(X_test_RFE)\n",
    "\n",
    "metric4 = []\n",
    "r2_train_lr = r2_score(y_train, y_pred_train)\n",
    "print(\"r2_score train data set :\"+str(r2_train_lr))\n",
    "metric4.append(r2_train_lr)\n",
    "\n",
    "r2_test_lr = r2_score(y_test, y_pred_test)\n",
    "print(\"r2_score test data set :\"+str(r2_test_lr))\n",
    "metric4.append(r2_test_lr)\n",
    "\n",
    "rss1_lr = np.sum(np.square(y_train - y_pred_train))\n",
    "print(\"RSS score train data set:\",rss1_lr)\n",
    "metric4.append(rss1_lr)\n",
    "\n",
    "rss2_lr = np.sum(np.square(y_test - y_pred_test))\n",
    "print(\"RSS score test data set:\",rss2_lr)\n",
    "metric4.append(rss2_lr)\n",
    "\n",
    "mse_train_lr = mean_squared_error(y_train, y_pred_train)\n",
    "print(\"MSE score train data set:\",mse_train_lr)\n",
    "metric4.append(mse_train_lr**0.5)\n",
    "\n",
    "mse_test_lr = mean_squared_error(y_test, y_pred_test)\n",
    "print(\"RSS score test data set:\",mse_test_lr)\n",
    "metric4.append(mse_test_lr**0.5)"
   ]
  },
  {
   "cell_type": "code",
   "execution_count": 78,
   "metadata": {},
   "outputs": [
    {
     "data": {
      "text/plain": [
       "GrLivArea      0.929634\n",
       "OverallQual    0.441600\n",
       "LotArea        0.422724\n",
       "OverallCond    0.341245\n",
       "1stFlrSF       0.310322\n",
       "Name: ridge_alpha_double, dtype: float64"
      ]
     },
     "execution_count": 78,
     "metadata": {},
     "output_type": "execute_result"
    }
   ],
   "source": [
    "betas['ridge_alpha_double'] = ridge_alpha_double.coef_\n",
    "betas['ridge_alpha_double'].sort_values(ascending=False)[0:5]"
   ]
  },
  {
   "cell_type": "code",
   "execution_count": 79,
   "metadata": {},
   "outputs": [
    {
     "data": {
      "text/plain": [
       "MSSubClass        -0.127472\n",
       "LotShape_Others   -0.139601\n",
       "GarageCond        -0.202623\n",
       "AgeOfHouse        -0.323159\n",
       "MSZoning_Others   -0.365604\n",
       "Name: ridge_alpha_double, dtype: float64"
      ]
     },
     "execution_count": 79,
     "metadata": {},
     "output_type": "execute_result"
    }
   ],
   "source": [
    "betas['ridge_alpha_double'].sort_values(ascending=False)[-5:]"
   ]
  },
  {
   "cell_type": "markdown",
   "metadata": {},
   "source": [
    "The important variable is `GrLivArea`"
   ]
  },
  {
   "cell_type": "markdown",
   "metadata": {},
   "source": [
    "### <span style='color:blue'> Lasso Regression:<br/>"
   ]
  },
  {
   "cell_type": "markdown",
   "metadata": {},
   "source": [
    "If we double the value of alpha"
   ]
  },
  {
   "cell_type": "code",
   "execution_count": 80,
   "metadata": {},
   "outputs": [
    {
     "data": {
      "text/plain": [
       "Lasso(alpha=0.0002)"
      ]
     },
     "execution_count": 80,
     "metadata": {},
     "output_type": "execute_result"
    }
   ],
   "source": [
    "#Fitting Ridge model for alpha = 0.0001 and printing coefficients which have been penalised\n",
    "\n",
    "alpha =0.0001 * 2\n",
    "\n",
    "lasso_alpha_2 = Lasso(alpha=alpha)\n",
    "        \n",
    "lasso_alpha_2.fit(X_train_RFE, y_train) "
   ]
  },
  {
   "cell_type": "code",
   "execution_count": 81,
   "metadata": {},
   "outputs": [
    {
     "data": {
      "text/plain": [
       "array([-0.12585165, -0.03927431,  0.30400697,  0.47077466,  0.33095192,\n",
       "        0.0962153 ,  0.07912844,  0.06838348, -0.        ,  0.        ,\n",
       "        0.0784831 ,  0.23205951,  0.8892305 ,  0.15484848,  0.12913587,\n",
       "        0.06260873,  0.08828621, -0.0433556 ,  0.06022421,  0.12693989,\n",
       "        0.08364489,  0.23206668,  0.01448541, -0.        ,  0.07475544,\n",
       "        0.10254353, -0.31413888, -0.34073245,  0.02931235, -0.11699344,\n",
       "        0.12068456,  0.15006394, -0.06905313, -0.08573159,  0.10279383,\n",
       "        0.12665764,  0.09764868,  0.1358054 ,  0.06889305,  0.06342246,\n",
       "       -0.08677885,  0.09270332, -0.0105513 , -0.        , -0.05965962,\n",
       "       -0.08630115,  0.0322886 ,  0.07816449,  0.04834229,  0.03418245])"
      ]
     },
     "execution_count": 81,
     "metadata": {},
     "output_type": "execute_result"
    }
   ],
   "source": [
    "lasso_alpha_2.coef_"
   ]
  },
  {
   "cell_type": "code",
   "execution_count": 82,
   "metadata": {},
   "outputs": [
    {
     "name": "stdout",
     "output_type": "stream",
     "text": [
      "r2_score train data set :0.9049109458826916\n",
      "r2_score test data set :0.898385571843867\n",
      "RSS score train data set: 15.261055513415247\n",
      "RSS score test data set: 7.323206634184908\n",
      "MSE score train data set: 0.014947165047419438\n",
      "RSS score test data set: 0.01671964984973723\n"
     ]
    }
   ],
   "source": [
    "# Lets calculate some metrics such as R2 score, RSS and RMSE\n",
    "\n",
    "y_pred_train = lasso_alpha_2.predict(X_train_RFE)\n",
    "y_pred_test = lasso_alpha_2.predict(X_test_RFE)\n",
    "\n",
    "metric5 = []\n",
    "r2_train_lr = r2_score(y_train, y_pred_train)\n",
    "print(\"r2_score train data set :\"+str(r2_train_lr))\n",
    "metric5.append(r2_train_lr)\n",
    "\n",
    "r2_test_lr = r2_score(y_test, y_pred_test)\n",
    "print(\"r2_score test data set :\"+str(r2_test_lr))\n",
    "metric5.append(r2_test_lr)\n",
    "\n",
    "rss1_lr = np.sum(np.square(y_train - y_pred_train))\n",
    "print(\"RSS score train data set:\",rss1_lr)\n",
    "metric5.append(rss1_lr)\n",
    "\n",
    "rss2_lr = np.sum(np.square(y_test - y_pred_test))\n",
    "print(\"RSS score test data set:\",rss2_lr)\n",
    "metric5.append(rss2_lr)\n",
    "\n",
    "mse_train_lr = mean_squared_error(y_train, y_pred_train)\n",
    "print(\"MSE score train data set:\",mse_train_lr)\n",
    "metric5.append(mse_train_lr**0.5)\n",
    "\n",
    "mse_test_lr = mean_squared_error(y_test, y_pred_test)\n",
    "print(\"RSS score test data set:\",mse_test_lr)\n",
    "metric5.append(mse_test_lr**0.5)"
   ]
  },
  {
   "cell_type": "code",
   "execution_count": 83,
   "metadata": {},
   "outputs": [
    {
     "data": {
      "text/html": [
       "<div>\n",
       "<style scoped>\n",
       "    .dataframe tbody tr th:only-of-type {\n",
       "        vertical-align: middle;\n",
       "    }\n",
       "\n",
       "    .dataframe tbody tr th {\n",
       "        vertical-align: top;\n",
       "    }\n",
       "\n",
       "    .dataframe thead th {\n",
       "        text-align: right;\n",
       "    }\n",
       "</style>\n",
       "<table border=\"1\" class=\"dataframe\">\n",
       "  <thead>\n",
       "    <tr style=\"text-align: right;\">\n",
       "      <th></th>\n",
       "      <th>Metric</th>\n",
       "      <th>Linear Regression</th>\n",
       "      <th>Ridge Regression</th>\n",
       "      <th>Lasso Regression</th>\n",
       "      <th>Ridge Regression alpha * 2</th>\n",
       "      <th>Lasso Regression alpha * 2</th>\n",
       "    </tr>\n",
       "  </thead>\n",
       "  <tbody>\n",
       "    <tr>\n",
       "      <th>0</th>\n",
       "      <td>R2 Score (Train)</td>\n",
       "      <td>0.906288</td>\n",
       "      <td>0.906288</td>\n",
       "      <td>0.905727</td>\n",
       "      <td>0.906288</td>\n",
       "      <td>0.906288</td>\n",
       "    </tr>\n",
       "    <tr>\n",
       "      <th>1</th>\n",
       "      <td>R2 Score (Test)</td>\n",
       "      <td>0.897216</td>\n",
       "      <td>0.897216</td>\n",
       "      <td>0.898420</td>\n",
       "      <td>0.897217</td>\n",
       "      <td>0.897217</td>\n",
       "    </tr>\n",
       "    <tr>\n",
       "      <th>2</th>\n",
       "      <td>RSS (Train)</td>\n",
       "      <td>15.040004</td>\n",
       "      <td>15.040004</td>\n",
       "      <td>15.130119</td>\n",
       "      <td>15.040004</td>\n",
       "      <td>15.040004</td>\n",
       "    </tr>\n",
       "    <tr>\n",
       "      <th>3</th>\n",
       "      <td>RSS (Test)</td>\n",
       "      <td>7.407501</td>\n",
       "      <td>7.407471</td>\n",
       "      <td>7.320711</td>\n",
       "      <td>7.407441</td>\n",
       "      <td>7.407441</td>\n",
       "    </tr>\n",
       "    <tr>\n",
       "      <th>4</th>\n",
       "      <td>MSE (Train)</td>\n",
       "      <td>0.121370</td>\n",
       "      <td>0.121370</td>\n",
       "      <td>0.121733</td>\n",
       "      <td>0.121370</td>\n",
       "      <td>0.121370</td>\n",
       "    </tr>\n",
       "    <tr>\n",
       "      <th>5</th>\n",
       "      <td>MSE (Test)</td>\n",
       "      <td>0.130047</td>\n",
       "      <td>0.130046</td>\n",
       "      <td>0.129282</td>\n",
       "      <td>0.130046</td>\n",
       "      <td>0.130046</td>\n",
       "    </tr>\n",
       "  </tbody>\n",
       "</table>\n",
       "</div>"
      ],
      "text/plain": [
       "             Metric  Linear Regression  Ridge Regression  Lasso Regression  \\\n",
       "0  R2 Score (Train)           0.906288          0.906288          0.905727   \n",
       "1   R2 Score (Test)           0.897216          0.897216          0.898420   \n",
       "2       RSS (Train)          15.040004         15.040004         15.130119   \n",
       "3        RSS (Test)           7.407501          7.407471          7.320711   \n",
       "4       MSE (Train)           0.121370          0.121370          0.121733   \n",
       "5        MSE (Test)           0.130047          0.130046          0.129282   \n",
       "\n",
       "   Ridge Regression alpha * 2  Lasso Regression alpha * 2  \n",
       "0                    0.906288                    0.906288  \n",
       "1                    0.897217                    0.897217  \n",
       "2                   15.040004                   15.040004  \n",
       "3                    7.407441                    7.407441  \n",
       "4                    0.121370                    0.121370  \n",
       "5                    0.130046                    0.130046  "
      ]
     },
     "execution_count": 83,
     "metadata": {},
     "output_type": "execute_result"
    }
   ],
   "source": [
    "# Creating a table which contain all the metrics\n",
    "\n",
    "lr_table = {'Metric': ['R2 Score (Train)','R2 Score (Test)','RSS (Train)','RSS (Test)',\n",
    "                       'MSE (Train)','MSE (Test)'], \n",
    "        'Linear Regression': metric\n",
    "        }\n",
    "\n",
    "lr_metric = pd.DataFrame(lr_table ,columns = ['Metric', 'Linear Regression'] )\n",
    "\n",
    "rg_metric = pd.Series(metric2, name = 'Ridge Regression')\n",
    "ls_metric = pd.Series(metric3, name = 'Lasso Regression')\n",
    "rg_metric_2 = pd.Series(metric4, name = 'Ridge Regression alpha * 2')\n",
    "lg_metric_2 = pd.Series(metric4, name = 'Lasso Regression alpha * 2')\n",
    "\n",
    "final_metric = pd.concat([lr_metric, rg_metric, ls_metric,rg_metric_2,lg_metric_2], axis = 1)\n",
    "\n",
    "final_metric"
   ]
  },
  {
   "cell_type": "code",
   "execution_count": 84,
   "metadata": {},
   "outputs": [
    {
     "data": {
      "text/plain": [
       "GrLivArea      0.889230\n",
       "OverallQual    0.470775\n",
       "OverallCond    0.330952\n",
       "LotArea        0.304007\n",
       "GarageCars     0.232067\n",
       "Name: lasso_alpha_2, dtype: float64"
      ]
     },
     "execution_count": 84,
     "metadata": {},
     "output_type": "execute_result"
    }
   ],
   "source": [
    "betas['lasso_alpha_2'] = lasso_alpha_2.coef_\n",
    "betas['lasso_alpha_2'].sort_values(ascending=False)[0:5]"
   ]
  },
  {
   "cell_type": "code",
   "execution_count": 85,
   "metadata": {},
   "outputs": [
    {
     "data": {
      "text/plain": [
       "BldgType_Twnhs    -0.086779\n",
       "LotShape_Others   -0.116993\n",
       "MSSubClass        -0.125852\n",
       "AgeOfHouse        -0.314139\n",
       "MSZoning_Others   -0.340732\n",
       "Name: lasso_alpha_2, dtype: float64"
      ]
     },
     "execution_count": 85,
     "metadata": {},
     "output_type": "execute_result"
    }
   ],
   "source": [
    "betas['lasso_alpha_2'].sort_values(ascending=False)[-5:]"
   ]
  },
  {
   "cell_type": "markdown",
   "metadata": {},
   "source": [
    "The most important variable is `Functional_Others`"
   ]
  },
  {
   "cell_type": "markdown",
   "metadata": {},
   "source": [
    "# Question 2\n",
    "\n",
    "You have determined the optimal value of lambda for ridge and lasso regression during the assignment. Now, which one will you choose to apply and why?\n",
    "\n",
    " "
   ]
  },
  {
   "cell_type": "markdown",
   "metadata": {},
   "source": [
    "### <span style='color:blue'>The optimal value of lambda for ridge and lasso are 0.05 and 0.0001 respectively. The value of lambda 0.05 is choosen because as the value of lambda is low, then the shrinkage penalty will decrease and it itends towards zero. This will not overcome the **Overfitting** issue."
   ]
  },
  {
   "cell_type": "markdown",
   "metadata": {},
   "source": [
    "# Question 3\n",
    "\n",
    "After building the model, you realised that the five most important predictor variables in the lasso model are not available in the incoming data. You will now have to create another model excluding the five most important predictor variables. Which are the five most important predictor variables now?"
   ]
  },
  {
   "cell_type": "code",
   "execution_count": 86,
   "metadata": {},
   "outputs": [
    {
     "data": {
      "text/plain": [
       "GrLivArea      0.889230\n",
       "OverallQual    0.470775\n",
       "OverallCond    0.330952\n",
       "LotArea        0.304007\n",
       "GarageCars     0.232067\n",
       "Name: lasso_alpha_2, dtype: float64"
      ]
     },
     "execution_count": 86,
     "metadata": {},
     "output_type": "execute_result"
    }
   ],
   "source": [
    "betas['lasso_alpha_2'].sort_values(ascending=False)[0:5]"
   ]
  },
  {
   "cell_type": "code",
   "execution_count": 87,
   "metadata": {},
   "outputs": [],
   "source": [
    "X_train_RFE.drop(['GrLivArea','OverallQual','OverallCond','LotArea','1stFlrSF'], axis=1, inplace=True)"
   ]
  },
  {
   "cell_type": "code",
   "execution_count": 88,
   "metadata": {},
   "outputs": [
    {
     "name": "stdout",
     "output_type": "stream",
     "text": [
      "Fitting 5 folds for each of 30 candidates, totalling 150 fits\n"
     ]
    },
    {
     "name": "stderr",
     "output_type": "stream",
     "text": [
      "[Parallel(n_jobs=1)]: Using backend SequentialBackend with 1 concurrent workers.\n",
      "[Parallel(n_jobs=1)]: Done 150 out of 150 | elapsed:    1.0s finished\n"
     ]
    },
    {
     "data": {
      "text/plain": [
       "GridSearchCV(cv=5, estimator=Lasso(),\n",
       "             param_grid={'alpha': [0.0001, 0.001, 0.003, 0.004, 0.01, 0.05, 0.1,\n",
       "                                   0.2, 0.3, 0.4, 0.5, 0.6, 0.7, 0.8, 0.9, 1.0,\n",
       "                                   2.0, 3.0, 4.0, 5.0, 6.0, 7.0, 8.0, 9.0, 10.0,\n",
       "                                   20, 50, 100, 500, 1000]},\n",
       "             return_train_score=True, scoring='neg_mean_absolute_error',\n",
       "             verbose=1)"
      ]
     },
     "execution_count": 88,
     "metadata": {},
     "output_type": "execute_result"
    }
   ],
   "source": [
    "lasso_quest_3 = Lasso()\n",
    "params = {'alpha': [0.0001, 0.001,0.003,0.004, 0.01, 0.05, 0.1, \n",
    " 0.2, 0.3, 0.4, 0.5, 0.6, 0.7, 0.8, 0.9, 1.0, 2.0, 3.0, \n",
    " 4.0, 5.0, 6.0, 7.0, 8.0, 9.0, 10.0, 20, 50, 100, 500, 1000 ]}\n",
    "# cross validation\n",
    "model_cv = GridSearchCV(estimator = lasso_quest_3, \n",
    "                        param_grid = params, \n",
    "                        scoring= 'neg_mean_absolute_error', \n",
    "                        cv = folds, \n",
    "                        return_train_score=True,\n",
    "                        verbose = 1)            \n",
    "\n",
    "model_cv.fit(X_train_RFE, y_train)"
   ]
  },
  {
   "cell_type": "code",
   "execution_count": 89,
   "metadata": {},
   "outputs": [
    {
     "name": "stdout",
     "output_type": "stream",
     "text": [
      "{'alpha': 0.0001}\n"
     ]
    }
   ],
   "source": [
    "# Printing the best hyperparameter alpha\n",
    "print(model_cv.best_params_)"
   ]
  },
  {
   "cell_type": "code",
   "execution_count": 90,
   "metadata": {},
   "outputs": [
    {
     "data": {
      "text/plain": [
       "Lasso(alpha=0.0001)"
      ]
     },
     "execution_count": 90,
     "metadata": {},
     "output_type": "execute_result"
    }
   ],
   "source": [
    "#Fitting Ridge model for alpha = 0.0001 and printing coefficients which have been penalised\n",
    "\n",
    "alpha =0.0001\n",
    "\n",
    "lasso_quest_3 = Lasso(alpha=alpha)\n",
    "        \n",
    "lasso_quest_3.fit(X_train_RFE, y_train) "
   ]
  },
  {
   "cell_type": "code",
   "execution_count": 91,
   "metadata": {},
   "outputs": [
    {
     "data": {
      "text/plain": [
       "array([-0.09150336,  0.00851584,  0.08926227,  0.11641461,  0.06277308,\n",
       "        0.07642026,  0.57733037,  0.11059206,  0.1326914 ,  0.32073321,\n",
       "        0.14040488,  0.04387942, -0.32663671,  0.19693879,  0.57856031,\n",
       "        0.11890616,  0.24977232,  0.19310963, -0.10437115,  0.12839281,\n",
       "        0.1202895 , -0.1625468 , -0.44814126,  0.06265183, -0.11720986,\n",
       "        0.12586512,  0.1902999 , -0.09191131, -0.17128568,  0.18826873,\n",
       "        0.13224898,  0.11032796,  0.19149555,  0.05373962,  0.06929763,\n",
       "       -0.08512187,  0.1041845 , -0.        ,  0.00711021, -0.09439678,\n",
       "       -0.12907193,  0.02452634,  0.0815721 ,  0.05439377,  0.04224086])"
      ]
     },
     "execution_count": 91,
     "metadata": {},
     "output_type": "execute_result"
    }
   ],
   "source": [
    "lasso_quest_3.coef_"
   ]
  },
  {
   "cell_type": "code",
   "execution_count": 92,
   "metadata": {},
   "outputs": [
    {
     "data": {
      "text/plain": [
       "TotRmsAbvGrd    0.578560\n",
       "TotalBsmtSF     0.577330\n",
       "FullBath        0.320733\n",
       "GarageCars      0.249772\n",
       "KitchenQual     0.196939\n",
       "Name: lasso_quest_3, dtype: float64"
      ]
     },
     "execution_count": 92,
     "metadata": {},
     "output_type": "execute_result"
    }
   ],
   "source": [
    "betas_2 = pd.DataFrame(index=X_train_RFE.columns)\n",
    "betas_2['lasso_quest_3'] = lasso_quest_3.coef_\n",
    "betas_2['lasso_quest_3'].sort_values(ascending=False)[0:5]"
   ]
  },
  {
   "cell_type": "code",
   "execution_count": 93,
   "metadata": {},
   "outputs": [
    {
     "data": {
      "text/plain": [
       "Functional_Others      -0.129072\n",
       "AgeOfHouse             -0.162547\n",
       "Neighborhood_MeadowV   -0.171286\n",
       "KitchenAbvGr           -0.326637\n",
       "MSZoning_Others        -0.448141\n",
       "Name: lasso_quest_3, dtype: float64"
      ]
     },
     "execution_count": 93,
     "metadata": {},
     "output_type": "execute_result"
    }
   ],
   "source": [
    "betas_2['lasso_quest_3'].sort_values(ascending=False)[-5:]"
   ]
  }
 ],
 "metadata": {
  "kernelspec": {
   "display_name": "Python 3",
   "language": "python",
   "name": "python3"
  },
  "language_info": {
   "codemirror_mode": {
    "name": "ipython",
    "version": 3
   },
   "file_extension": ".py",
   "mimetype": "text/x-python",
   "name": "python",
   "nbconvert_exporter": "python",
   "pygments_lexer": "ipython3",
   "version": "3.7.4"
  }
 },
 "nbformat": 4,
 "nbformat_minor": 2
}
